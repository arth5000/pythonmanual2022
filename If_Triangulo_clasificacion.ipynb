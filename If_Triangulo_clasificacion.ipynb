{
  "nbformat": 4,
  "nbformat_minor": 0,
  "metadata": {
    "colab": {
      "provenance": [],
      "authorship_tag": "ABX9TyNbWvb33frCo79Hh4cOa8XK",
      "include_colab_link": true
    },
    "kernelspec": {
      "name": "python3",
      "display_name": "Python 3"
    },
    "language_info": {
      "name": "python"
    }
  },
  "cells": [
    {
      "cell_type": "markdown",
      "metadata": {
        "id": "view-in-github",
        "colab_type": "text"
      },
      "source": [
        "<a href=\"https://colab.research.google.com/github/arth5000/pythonmanual2022/blob/main/If_Triangulo_clasificacion.ipynb\" target=\"_parent\"><img src=\"https://colab.research.google.com/assets/colab-badge.svg\" alt=\"Open In Colab\"/></a>"
      ]
    },
    {
      "cell_type": "markdown",
      "metadata": {
        "id": "TcteiMEAEQXs"
      },
      "source": [
        "If simple es una instruccion para generar una estructura condicional selectiva simple. La cual se ejemplifica:"
      ]
    },
    {
      "cell_type": "code",
      "metadata": {
        "colab": {
          "base_uri": "https://localhost:8080/"
        },
        "id": "nuyX_6dDCLdH",
        "outputId": "d5f7652a-b5eb-4723-df1f-30e85686b10a"
      },
      "source": [
        "a=22\n",
        "if a==22:\n",
        "  print(\"El valor es identico a 22\")\n",
        "  print(\"...\")\n",
        "  print(\"fin del bloque de codigo Verdadero\")\n",
        "\n",
        "\n",
        "print(\"Fin del programa\")\n",
        "  \n"
      ],
      "execution_count": null,
      "outputs": [
        {
          "output_type": "stream",
          "text": [
            "El valor es identico a 22\n",
            "...\n",
            "fin del bloque de codigo Verdadero\n",
            "Fin del programa\n"
          ],
          "name": "stdout"
        }
      ]
    },
    {
      "cell_type": "markdown",
      "metadata": {
        "id": "VPcbov_2Fq-9"
      },
      "source": [
        "Ejemplo de if y else"
      ]
    },
    {
      "cell_type": "code",
      "metadata": {
        "colab": {
          "base_uri": "https://localhost:8080/"
        },
        "id": "QD4qxB9oFulT",
        "outputId": "048a5669-047d-4976-861a-990542b379bb"
      },
      "source": [
        "edad=22\n",
        "if edad>=18:\n",
        "  print(\"Eres mayor de edad\")\n",
        "  print(\"...\")\n",
        "  print(\"Puedes votar en las proximas elecciones\")\n",
        "else:\n",
        "  print(\"Proximamente votaras\")\n",
        "\n",
        "print(\"Gracias\")"
      ],
      "execution_count": null,
      "outputs": [
        {
          "output_type": "stream",
          "text": [
            "Eres mayo de edad\n",
            "...\n",
            "Puedes votar en las proximas elecciones\n",
            "Gracias\n"
          ],
          "name": "stdout"
        }
      ]
    },
    {
      "cell_type": "code",
      "metadata": {
        "colab": {
          "base_uri": "https://localhost:8080/"
        },
        "id": "oYgjT2SZGlzO",
        "outputId": "261f64cc-1f4a-40f1-d75c-0e1c15611f1a"
      },
      "source": [
        "edad=int(input(\"Escribe tu edad \"))\n",
        "if edad>=18:\n",
        "  print(\"Eres mayor de edad\\n ...\\n Puedes votar en las proximas elecciones\") \n",
        "else:\n",
        "  print(\"Proximamente votaras\")\n",
        "\n",
        "print(\"Gracias\")"
      ],
      "execution_count": null,
      "outputs": [
        {
          "output_type": "stream",
          "text": [
            "Escribe tu edad23\n",
            "Eres mayor de edad\n",
            " ...\n",
            " Puedes votar en las proximas elecciones\n",
            "Gracias\n"
          ],
          "name": "stdout"
        }
      ]
    },
    {
      "cell_type": "markdown",
      "metadata": {
        "id": "jBg0GW5aHIFh"
      },
      "source": [
        "Diseñe y codifique un algoritmo en python donde se clasifique un triángulo mediante las medidas de sus lados. Imprimir el tipo de triangulo y los datos introducidos."
      ]
    },
    {
      "cell_type": "markdown",
      "metadata": {
        "id": "c23EfNcfHbpD"
      },
      "source": [
        "\n",
        "\n",
        "```\n",
        "Entradas\n",
        "lado1, \n",
        "lado2, \n",
        "lado3 \n",
        "```\n",
        "\n",
        "\n",
        "```\n",
        "Salida \"de texto correspondientes a los tipos de triangulos\"\n",
        "```\n",
        "\n",
        "Procesos Comparaciones.\n",
        "\n",
        "\n"
      ]
    },
    {
      "cell_type": "markdown",
      "metadata": {
        "id": "Wj3k00mzHzYc"
      },
      "source": [
        "\n",
        "\n",
        "\n",
        "```\n",
        "leer l1,l2,l3\n",
        "\n",
        "comparar si l1 l2 l3 son identicos por tanto es equilatero\n",
        "\n",
        "compara si al menos 2 lados son iguales por tanto es isoceles\n",
        "\n",
        "comparar si todos los lados son diferentes por tanto es escaleno\n",
        "\n",
        "```\n",
        "\n",
        "\n",
        "\n"
      ]
    },
    {
      "cell_type": "code",
      "metadata": {
        "colab": {
          "base_uri": "https://localhost:8080/"
        },
        "id": "9-jcGWrAIVyT",
        "outputId": "ab975b3c-b39e-42d8-f904-be7ba4cd967d"
      },
      "source": [
        "la=float(input(\"introduce el lado A> \"))\n",
        "lb=float(input(\"introduce el lado B> \"))\n",
        "lc=float(input(\"introduce el lado C> \"))\n",
        "\n",
        "if la==lb and lb==lc:\n",
        "  print(\"Es equilatero\")# comparar si l1 l2 l3 son identicos por tanto es equilatero\n",
        "\n",
        "else:\n",
        "  if la==lb or lb==lc or lc==la:\n",
        "    print(\"el triangulo es isoceles\")#compara si al menos 2 lados son iguales por tanto es isoceles\n",
        "  if la != lb and lb!= lc:\n",
        "    print(\"Es escaleno\")#comparar si todos los lados son diferentes por tanto es escaleno\n",
        "\n",
        "\n",
        "\n",
        "\n"
      ],
      "execution_count": 1,
      "outputs": [
        {
          "output_type": "stream",
          "name": "stdout",
          "text": [
            "introduce el lado A> 2\n",
            "introduce el lado B> 4\n",
            "introduce el lado C> 6\n",
            "Es escaleno\n"
          ]
        }
      ]
    }
  ]
}