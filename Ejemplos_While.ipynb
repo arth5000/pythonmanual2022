{
  "nbformat": 4,
  "nbformat_minor": 0,
  "metadata": {
    "colab": {
      "provenance": [],
      "authorship_tag": "ABX9TyODIL+KXMhgV8CcqiCsCAmi",
      "include_colab_link": true
    },
    "kernelspec": {
      "name": "python3",
      "display_name": "Python 3"
    },
    "language_info": {
      "name": "python"
    }
  },
  "cells": [
    {
      "cell_type": "markdown",
      "metadata": {
        "id": "view-in-github",
        "colab_type": "text"
      },
      "source": [
        "<a href=\"https://colab.research.google.com/github/arth5000/pythonmanual2022/blob/main/Ejemplos_While.ipynb\" target=\"_parent\"><img src=\"https://colab.research.google.com/assets/colab-badge.svg\" alt=\"Open In Colab\"/></a>"
      ]
    },
    {
      "cell_type": "markdown",
      "metadata": {
        "id": "FHZ3_Ui_YOoy"
      },
      "source": [
        "**Contador:** Una expresión aritmetica que puede incrementarse o decrementarse de una manera lineal generalmente por un proceso interno.\n",
        "\n",
        "**Acumulador:** Es una variable que se incremente o decrementa de manera no lineal generalmente de información que introduce el usuario.\n",
        "\n",
        "**Bandera(Interruptor o Centinela)**: Es una variable que tiene un valor/estado y que nos permite la deteccion de un evento. Booleano (True /False)\n"
      ]
    },
    {
      "cell_type": "code",
      "metadata": {
        "colab": {
          "base_uri": "https://localhost:8080/"
        },
        "id": "hYQSFatRW5F6",
        "outputId": "3bf73e7a-919c-4d4f-eb48-2b13532a27e8"
      },
      "source": [
        "#contador \n",
        "c=0#valor inicial\n",
        "\n",
        "c=c+1 #expresión \n",
        "\n",
        "c=c+1 #expresión \n",
        "\n",
        "c=c+1 #expresión \n",
        "\n",
        "print(c)# valor final   1"
      ],
      "execution_count": null,
      "outputs": [
        {
          "output_type": "stream",
          "text": [
            "3\n"
          ],
          "name": "stdout"
        }
      ]
    },
    {
      "cell_type": "code",
      "metadata": {
        "colab": {
          "base_uri": "https://localhost:8080/"
        },
        "id": "1lPdBRINZ9jy",
        "outputId": "130e6503-c717-4040-831a-92db93274206"
      },
      "source": [
        "c=0# valor inicial del contador\n",
        "\n",
        "while c<10:# expresión logica\n",
        "  c=c+1# expresion aritmetica\n",
        "  print(c,\"\\n\")\n",
        "\n",
        "print(\"el valor final de c es \", c)"
      ],
      "execution_count": null,
      "outputs": [
        {
          "output_type": "stream",
          "text": [
            "1 \n",
            "\n",
            "2 \n",
            "\n",
            "3 \n",
            "\n",
            "4 \n",
            "\n",
            "5 \n",
            "\n",
            "6 \n",
            "\n",
            "7 \n",
            "\n",
            "8 \n",
            "\n",
            "9 \n",
            "\n",
            "10 \n",
            "\n",
            "el valor final de c es  10\n"
          ],
          "name": "stdout"
        }
      ]
    },
    {
      "cell_type": "code",
      "metadata": {
        "colab": {
          "base_uri": "https://localhost:8080/"
        },
        "id": "VxWtNU4KbE61",
        "outputId": "c3ea401a-2bbd-4ff4-e481-1b7ae8ecbf76"
      },
      "source": [
        "c=10\n",
        "\n",
        "while c<10:\n",
        "  c=c+1\n",
        "  print(c,\"\\n\")\n",
        "\n",
        "print(\"el valor final de c es \", c)"
      ],
      "execution_count": null,
      "outputs": [
        {
          "output_type": "stream",
          "text": [
            "el valor final de c es  10\n"
          ],
          "name": "stdout"
        }
      ]
    },
    {
      "cell_type": "code",
      "metadata": {
        "id": "kbmgWP0NbslW"
      },
      "source": [
        "c=0 # el codigo se repite indefinidamente.\n",
        "\n",
        "while c<10:  \n",
        "  print(c,\"\\n\")\n",
        "\n",
        "print(\"el valor final de c es \", c)"
      ],
      "execution_count": null,
      "outputs": []
    },
    {
      "cell_type": "code",
      "metadata": {
        "colab": {
          "base_uri": "https://localhost:8080/"
        },
        "id": "AJLK-jimcR04",
        "outputId": "3cef8073-29dc-4f6f-9085-d2b9ff6eea96"
      },
      "source": [
        "c=10# valor inicial del contador\n",
        "\n",
        "while c>-1:# expresión logica\n",
        "  #primero el bloque de codigo util\n",
        "  print(c,\"\\n\")\n",
        "  c=c-1# expresion aritmetica\n",
        "\n",
        "print(\"el valor final de c es \", c)"
      ],
      "execution_count": null,
      "outputs": [
        {
          "output_type": "stream",
          "text": [
            "10 \n",
            "\n",
            "9 \n",
            "\n",
            "8 \n",
            "\n",
            "7 \n",
            "\n",
            "6 \n",
            "\n",
            "5 \n",
            "\n",
            "4 \n",
            "\n",
            "3 \n",
            "\n",
            "2 \n",
            "\n",
            "1 \n",
            "\n",
            "0 \n",
            "\n",
            "el valor final de c es  -1\n"
          ],
          "name": "stdout"
        }
      ]
    },
    {
      "cell_type": "code",
      "metadata": {
        "colab": {
          "base_uri": "https://localhost:8080/"
        },
        "id": "2Lb3cVJWdXFg",
        "outputId": "fc9725c7-f515-492a-ff3b-c52ac64a8f25"
      },
      "source": [
        "# diseñe en python 3 un programa que imprima 5 veces un saludo.\n",
        "c=0# valor inicial del contador\n",
        "\n",
        "while c<10:# expresión logica\n",
        "  print(\"hola\")\n",
        "  c=c+2# expresion aritmetica\n",
        "  #print(c,\"\\n\")\n",
        "\n",
        "print(\"el valor final de c es \", c)"
      ],
      "execution_count": null,
      "outputs": [
        {
          "output_type": "stream",
          "text": [
            "hola\n",
            "hola\n",
            "hola\n",
            "hola\n",
            "hola\n",
            "el valor final de c es  10\n"
          ],
          "name": "stdout"
        }
      ]
    },
    {
      "cell_type": "code",
      "metadata": {
        "colab": {
          "base_uri": "https://localhost:8080/"
        },
        "id": "hrJRgGXfeLlK",
        "outputId": "83517a67-f2d9-4695-e1c2-03d7b897f7ca"
      },
      "source": [
        "# diseñe en python 3 un programa que imprima los primeros 10 multiplo de la tabla del 2.\n",
        "c=0# valor inicial del contador\n",
        "\n",
        "while c<20:# expresión logica\n",
        "  \n",
        "  c=c+2# expresion aritmetica\n",
        "  print(c,\"\\n\")\n",
        "\n",
        "print(\"el valor final de c es \", c)"
      ],
      "execution_count": null,
      "outputs": [
        {
          "output_type": "stream",
          "text": [
            "2 \n",
            "\n",
            "4 \n",
            "\n",
            "6 \n",
            "\n",
            "8 \n",
            "\n",
            "10 \n",
            "\n",
            "12 \n",
            "\n",
            "14 \n",
            "\n",
            "16 \n",
            "\n",
            "18 \n",
            "\n",
            "20 \n",
            "\n",
            "el valor final de c es  20\n"
          ],
          "name": "stdout"
        }
      ]
    },
    {
      "cell_type": "code",
      "metadata": {
        "colab": {
          "base_uri": "https://localhost:8080/"
        },
        "id": "ZhDHNaw7fBju",
        "outputId": "6854ce0f-963d-4f2a-8cfd-b9e550f02053"
      },
      "source": [
        "\n",
        "c=0# valor inicial del contador\n",
        "l=[]\n",
        "while c<5:# expresión logica\n",
        "  v=float(input(\"Escribe un valor flotante\"))\n",
        "  l.append(v)  \n",
        "  c=c+1# expresion aritmetica\n",
        "  #print(c,\"\\n\")\n",
        "\n",
        "suma=sum(l)\n",
        "print(\"la suma de todos los valores es \", suma)"
      ],
      "execution_count": null,
      "outputs": [
        {
          "output_type": "stream",
          "text": [
            "Escribe un valor flotante1\n",
            "Escribe un valor flotante1\n",
            "Escribe un valor flotante1\n",
            "Escribe un valor flotante1\n",
            "Escribe un valor flotante1\n",
            "la suma de todos los valores es  5.0\n"
          ],
          "name": "stdout"
        }
      ]
    },
    {
      "cell_type": "code",
      "metadata": {
        "colab": {
          "base_uri": "https://localhost:8080/"
        },
        "id": "IMRlZWUZhUDu",
        "outputId": "09538aa8-3aa7-44a8-82d7-1afecdccc4e2"
      },
      "source": [
        "\n",
        "c=0# valor inicial del contador\n",
        "l=[]\n",
        "while c<5:# expresión logica\n",
        "  v=float(input(\"Escribe un valor flotante\"))\n",
        "  l.append(v)  \n",
        "  c=c+1# expresion aritmetica\n",
        "  #print(c,\"\\n\")\n",
        "\n",
        "suma=sum(l)\n",
        "print(\"la suma de todos los valores es \", suma)\n",
        "print(\"los valores que intervinieron en la suma son\",l)"
      ],
      "execution_count": null,
      "outputs": [
        {
          "output_type": "stream",
          "text": [
            "Escribe un valor flotante52\n",
            "Escribe un valor flotante3\n",
            "Escribe un valor flotante6\n",
            "Escribe un valor flotante9\n",
            "Escribe un valor flotante78\n",
            "la suma de todos los valores es  148.0\n",
            "los valores que intervinieron en la suma son [52.0, 3.0, 6.0, 9.0, 78.0]\n"
          ],
          "name": "stdout"
        }
      ]
    },
    {
      "cell_type": "code",
      "metadata": {
        "colab": {
          "base_uri": "https://localhost:8080/"
        },
        "id": "S6zxKOPXhqiS",
        "outputId": "1d091fa1-f5e4-48cc-96f9-2caa3b244316"
      },
      "source": [
        "c=0# valor inicial del contador\n",
        "ac=0\n",
        "while c<5:# expresión logica\n",
        "  v=float(input(\"Escribe un valor flotante\"))\n",
        "  ac=ac+v # la cuenta de los valores\n",
        "  print(\"valor actual de la sumatoria\",ac,\"\\n\")\n",
        "  c=c+1# expresion aritmetica del contador para asegurar 5 repeticiones\n",
        "\n",
        "\n",
        "print(\"la suma de todos los valores es \", ac)\n"
      ],
      "execution_count": null,
      "outputs": [
        {
          "output_type": "stream",
          "text": [
            "Escribe un valor flotante2\n",
            "valor actual de la sumatoria 2.0 \n",
            "\n",
            "Escribe un valor flotante3\n",
            "valor actual de la sumatoria 5.0 \n",
            "\n",
            "Escribe un valor flotante21\n",
            "valor actual de la sumatoria 26.0 \n",
            "\n",
            "Escribe un valor flotante2\n",
            "valor actual de la sumatoria 28.0 \n",
            "\n",
            "Escribe un valor flotante4\n",
            "valor actual de la sumatoria 32.0 \n",
            "\n",
            "la suma de todos los valores es  32.0\n"
          ],
          "name": "stdout"
        }
      ]
    },
    {
      "cell_type": "code",
      "metadata": {
        "colab": {
          "base_uri": "https://localhost:8080/"
        },
        "id": "GI7BaXvpimF9",
        "outputId": "430ae5b0-a173-4452-b690-64e46e937bf5"
      },
      "source": [
        "f=1# valor inicial\n",
        "\n",
        "while f!=0:\n",
        "  v1=float(input(\"Escribe el valor de un lado\"))\n",
        "  v2=float(input(\"Escribe valor de otro lado\"))\n",
        "  area=v1*v2\n",
        "  print(\"area es \",area)\n",
        "  f=int(input(\"Para salir presione 0\"))\n",
        "\n",
        "\n",
        "\n",
        "\n",
        "\n"
      ],
      "execution_count": null,
      "outputs": [
        {
          "output_type": "stream",
          "text": [
            "Escribe el valor de un lado22.2\n",
            "Escribe valor de otro lado3.214\n",
            "area es  71.35079999999999\n",
            "Para salir presione 02\n",
            "Escribe el valor de un lado9\n",
            "Escribe valor de otro lado5\n",
            "area es  45.0\n",
            "Para salir presione 00\n"
          ],
          "name": "stdout"
        }
      ]
    },
    {
      "cell_type": "code",
      "metadata": {
        "colab": {
          "base_uri": "https://localhost:8080/"
        },
        "id": "IVizsiK9kCo1",
        "outputId": "017efe1e-172e-4937-9504-fc01200679a7"
      },
      "source": [
        "f=0# valor inicial\n",
        "c=0\n",
        "while f==0:\n",
        "  v1=float(input(\"Escribe el valor de un lado\"))\n",
        "  v2=float(input(\"Escribe valor de otro lado\"))\n",
        "  area=v1*v2\n",
        "  print(\"area es \",area)\n",
        "  f=int(input(\"Para continuar presione 0 sino cualquier otro valor\"))\n",
        "  c=c+1#contador\n",
        "\n",
        "print(\"Este programa se repitio: \",c)"
      ],
      "execution_count": null,
      "outputs": [
        {
          "output_type": "stream",
          "text": [
            "Escribe el valor de un lado2\n",
            "Escribe valor de otro lado3\n",
            "area es  6.0\n",
            "Para salir presione 10\n",
            "Escribe el valor de un lado1\n",
            "Escribe valor de otro lado2\n",
            "area es  2.0\n",
            "Para salir presione 10\n",
            "Escribe el valor de un lado12\n",
            "Escribe valor de otro lado2\n",
            "area es  24.0\n",
            "Para salir presione 11\n",
            "Este programa se repitio:  3\n"
          ],
          "name": "stdout"
        }
      ]
    }
  ]
}