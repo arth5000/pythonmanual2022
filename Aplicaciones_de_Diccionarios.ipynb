{
  "nbformat": 4,
  "nbformat_minor": 0,
  "metadata": {
    "colab": {
      "provenance": [],
      "authorship_tag": "ABX9TyPiqh+tSLv9IXM/rckFmvqW",
      "include_colab_link": true
    },
    "kernelspec": {
      "name": "python3",
      "display_name": "Python 3"
    },
    "language_info": {
      "name": "python"
    }
  },
  "cells": [
    {
      "cell_type": "markdown",
      "metadata": {
        "id": "view-in-github",
        "colab_type": "text"
      },
      "source": [
        "<a href=\"https://colab.research.google.com/github/arth5000/pythonmanual2022/blob/main/Aplicaciones_de_Diccionarios.ipynb\" target=\"_parent\"><img src=\"https://colab.research.google.com/assets/colab-badge.svg\" alt=\"Open In Colab\"/></a>"
      ]
    },
    {
      "cell_type": "markdown",
      "metadata": {
        "id": "Fh4ieusvm5lI"
      },
      "source": [
        "Ejercicio 1\n",
        "Escribir un programa que guarde en una variable el diccionario {'Euro':'€', 'Dollar':'$', 'Yen':'¥'}, pregunte al usuario por una divisa y muestre su símbolo o un mensaje de aviso si la divisa no está en el diccionario. Fuente: https://aprendeconalf.es/docencia/python/ejercicios/diccionarios/"
      ]
    },
    {
      "cell_type": "code",
      "metadata": {
        "colab": {
          "base_uri": "https://localhost:8080/"
        },
        "id": "0Tyz3FiYl1AZ",
        "outputId": "cafcfabf-6ae3-4425-d867-d70277fdefde"
      },
      "source": [
        "simbolos={'Euro':'€', 'Dollar':'$', 'Yen':'¥'}\n",
        "tipo=str(input(\"En que tipo de divisa deseas pagar, Euros, Dollars o Yens? \"))\n",
        "\n",
        "precio=124578\n",
        "\n",
        "print(simbolos[tipo],precio)\n"
      ],
      "execution_count": null,
      "outputs": [
        {
          "output_type": "stream",
          "text": [
            "En que tipo de divisa deseas pagar, Euros, Dollars o Yens? Dollar\n",
            "$ 124578\n"
          ],
          "name": "stdout"
        }
      ]
    },
    {
      "cell_type": "markdown",
      "metadata": {
        "id": "d-qRrjZioa0P"
      },
      "source": [
        "2.  Escribir un programa que pregunte al usuario su nombre, edad, dirección y teléfono y lo guarde en un diccionario. Después debe mostrar por pantalla el mensaje <nombre> tiene <edad> años, vive en <dirección> y su número de teléfono es <teléfono>."
      ]
    },
    {
      "cell_type": "code",
      "metadata": {
        "colab": {
          "base_uri": "https://localhost:8080/"
        },
        "id": "39jxXVZwoaQY",
        "outputId": "a6ab6d07-8a97-4b31-dfed-fa3f5c690d62"
      },
      "source": [
        "db={}\n",
        "nombre=str(input(\"Escribe tu nombre? \"))\n",
        "edad=int(input(\"Escribe tu edad? \"))\n",
        "dir=str(input(\"Escribe tu direccion? \"))\n",
        "tel=int(input(\"Escribe tu telefono? \"))\n",
        "\n",
        "db.setdefault('name',nombre)\n",
        "db.setdefault('age',edad)\n",
        "db.setdefault('addr',dir)\n",
        "db.setdefault('phone',tel)\n",
        "\n",
        "#print(db)\n",
        "print( db['name'],\"tiene\",db['age'], \"años, vive en\",db['addr'], \"y su número de teléfono es \",db['phone'])"
      ],
      "execution_count": null,
      "outputs": [
        {
          "output_type": "stream",
          "text": [
            "Escribe tu nombre? arturo\n",
            "Escribe tu edad? 39\n",
            "Escribe tu direccion? calz. del ejercito\n",
            "Escribe tu telefono? 3334446566\n",
            "arturo tiene 39 años, vive en calz. del ejercito y su número de teléfono es  3334446566\n"
          ],
          "name": "stdout"
        }
      ]
    },
    {
      "cell_type": "markdown",
      "metadata": {
        "id": "G-D-h4FUrNLX"
      },
      "source": [
        "3.Escribir un programa que guarde en un diccionario los precios de las frutas de la tabla, pregunte al usuario por una fruta, un número de kilos y muestre por pantalla el precio de ese número de kilos de fruta. Si la fruta no está en el diccionario debe mostrar un mensaje informando de ello."
      ]
    },
    {
      "cell_type": "code",
      "metadata": {
        "colab": {
          "base_uri": "https://localhost:8080/"
        },
        "id": "NvpTKXbhrPrg",
        "outputId": "6a1396ab-03e1-4e5b-ea1f-8d27668f8458"
      },
      "source": [
        "db={'platano':1.35,'manzana':0.8,'pera':0.85,'naranja':0.7}\n",
        "fruit=str(input(\"Escribe la fruta a comprar? \"))\n",
        "kgs=float(input(\"Cuantos kilos? \"))\n",
        "try:\n",
        "  total=db[fruit]*kgs\n",
        "  print(\"Total a pagar \",total)\n",
        "except:\n",
        "  print(\"Clave no existente\")\n",
        "\n",
        "\n"
      ],
      "execution_count": null,
      "outputs": [
        {
          "output_type": "stream",
          "text": [
            "Escribe la fruta a comprar? melon\n",
            "Cuantos kilos? 12\n",
            "Clave no existente\n"
          ],
          "name": "stdout"
        }
      ]
    },
    {
      "cell_type": "markdown",
      "metadata": {
        "id": "_-nyhuw8uqQq"
      },
      "source": [
        "4. Escribir un programa que pregunte una fecha en formato dd/mm/aaaa y muestre por pantalla la misma fecha en formato dd de <mes> de aaaa donde <mes> es el nombre del mes."
      ]
    },
    {
      "cell_type": "code",
      "metadata": {
        "colab": {
          "base_uri": "https://localhost:8080/"
        },
        "id": "LFGECBQ_uqpZ",
        "outputId": "b3942518-4687-4e2f-d8b3-8ae265af64d4"
      },
      "source": [
        "db={}\n",
        "\n",
        "dia=int(input(\"Escribe el dia \"))\n",
        "mes=str(input(\"Escribe el mes? \"))\n",
        "anio=int(input(\"Escribe el año? \"))\n",
        "\n",
        "db.setdefault('day',dia)\n",
        "db.setdefault('month',mes)\n",
        "db.setdefault('year',anio)\n",
        "#dd de <mes> de aaaa donde <mes> 2022\n",
        "\n",
        "print(db['day'] ,\"de \", db['month'], \" de \", db['year'] )"
      ],
      "execution_count": null,
      "outputs": [
        {
          "output_type": "stream",
          "text": [
            "Escribe el dia 22\n",
            "Escribe el mes? agosto\n",
            "Escribe el año? 2022\n",
            "22 de  agosto  de  2022\n"
          ],
          "name": "stdout"
        }
      ]
    }
  ]
}