{
  "nbformat": 4,
  "nbformat_minor": 0,
  "metadata": {
    "colab": {
      "provenance": [],
      "include_colab_link": true
    },
    "kernelspec": {
      "name": "python3",
      "display_name": "Python 3"
    }
  },
  "cells": [
    {
      "cell_type": "markdown",
      "metadata": {
        "id": "view-in-github",
        "colab_type": "text"
      },
      "source": [
        "<a href=\"https://colab.research.google.com/github/arth5000/pythonmanual2022/blob/main/Color_Letra.ipynb\" target=\"_parent\"><img src=\"https://colab.research.google.com/assets/colab-badge.svg\" alt=\"Open In Colab\"/></a>"
      ]
    },
    {
      "cell_type": "code",
      "metadata": {
        "id": "c0SDOPEc8hgA",
        "colab": {
          "base_uri": "https://localhost:8080/"
        },
        "outputId": "0764645a-92bb-4056-c654-27eebbab3ffc"
      },
      "source": [
        "print(chr(27)+\"[0;30;47m\"+\"Texto en negrita de color amarillo\"+\"\\033[0;30m\") \n",
        "print(\"\\x1b[1;33m;46m\"+\"Texto en negrita de color amarillo\"+'\\033[0;30m') \n",
        "print(\"\\033[2;32;45m\"+\"Texto en negrita y subrayado de color morado\"+'\\033[0;30m') \n",
        "print(\"\\033[3;33;44m\"+\"Texto en negrita y subrayado de color morado\")\n",
        "print(chr(27)+\"[4;34;43m\"+\"Texto en negrita de color amarillo\"+\"\\033[0;30m\") \n",
        "print(\"\\x1b[0;35;42m\"+\"Texto en negrita de color amarillo\"+'\\033[0;30m') \n",
        "print(\"\\033[1;36;41m\"+\"Texto en negrita y subrayado de color morado\"+'\\033[0;30m') \n",
        "print(\"\\033[2;37;40m\"+\"Texto en negrita y subrayado de color morado\")"
      ],
      "execution_count": null,
      "outputs": [
        {
          "output_type": "stream",
          "text": [
            "\u001b[0;30;47mTexto en negrita de color amarillo\u001b[0;30m\n",
            "\u001b[1;31;46mTexto en negrita de color amarillo\u001b[0;30m\n",
            "\u001b[2;32;45mTexto en negrita y subrayado de color morado\u001b[0;30m\n",
            "\u001b[3;33;44mTexto en negrita y subrayado de color morado\n",
            "\u001b[4;34;43mTexto en negrita de color amarillo\u001b[0;30m\n",
            "\u001b[0;35;42mTexto en negrita de color amarillo\u001b[0;30m\n",
            "\u001b[1;36;41mTexto en negrita y subrayado de color morado\u001b[0;30m\n",
            "\u001b[2;37;40mTexto en negrita y subrayado de color morado\n"
          ],
          "name": "stdout"
        }
      ]
    },
    {
      "cell_type": "code",
      "metadata": {
        "id": "U5lrEZH78mVH",
        "colab": {
          "base_uri": "https://localhost:8080/"
        },
        "outputId": "362d3271-1a29-478a-8256-1f3132fced4c"
      },
      "source": [
        "print(\"\\033[1;33m\"+\"Texto en negrita color amarillo\") \n",
        "print(\"\\033[5;36m\"+\"Texto normal de color cian\")\n",
        "print(\"\\033[4;35;43m\"+\"Texto subr morado sobre blanco\") \n",
        "print(\"\\033[4;35m\"+\"Texto normal subr color morado\")"
      ],
      "execution_count": null,
      "outputs": [
        {
          "output_type": "stream",
          "text": [
            "\u001b[1;33mTexto en negrita color amarillo\n",
            "\u001b[5;36mTexto normal de color cian\n",
            "\u001b[4;35;43mTexto subr morado sobre blanco\n",
            "\u001b[4;35mTexto normal subr color morado\n"
          ],
          "name": "stdout"
        }
      ]
    },
    {
      "cell_type": "code",
      "metadata": {
        "colab": {
          "base_uri": "https://localhost:8080/"
        },
        "id": "gbyEfX2LkdWz",
        "outputId": "4603a528-924d-4ffc-fcdf-b2875ddfd2a5"
      },
      "source": [
        "print(\"\\033[1;30m\"+\"Texto en negrita color negro\")\n",
        "print(\"\\033[1;31m\"+\"Texto en negrita color rojo\") \n",
        "print(\"\\033[1;32m\"+\"Texto en negrita color verde\") \n",
        "print(\"\\033[1;33m\"+\"Texto en negrita color amarillo\") \n",
        "print(\"\\033[1;34m\"+\"Texto en negrita color azul\") \n",
        "print(\"\\033[1;35m\"+\"Texto en negrita color rosa\") \n",
        "print(\"\\033[1;36m\"+\"Texto en negrita color cian\") \n",
        "print(\"\\033[1;37m\"+\"Texto en negrita color gris\")"
      ],
      "execution_count": null,
      "outputs": [
        {
          "output_type": "stream",
          "text": [
            "\u001b[1;30mTexto en negrita color negro\n",
            "\u001b[1;31mTexto en negrita color rojo\n",
            "\u001b[1;32mTexto en negrita color verde\n",
            "\u001b[1;33mTexto en negrita color amarillo\n",
            "\u001b[1;34mTexto en negrita color azul\n",
            "\u001b[1;35mTexto en negrita color rosa\n",
            "\u001b[1;36mTexto en negrita color cian\n",
            "\u001b[1;37mTexto en negrita color gris\n"
          ],
          "name": "stdout"
        }
      ]
    },
    {
      "cell_type": "code",
      "metadata": {
        "colab": {
          "base_uri": "https://localhost:8080/"
        },
        "id": "szu8FQOLlFPT",
        "outputId": "f8bb5434-0f73-490c-804c-7512f6fa82ce"
      },
      "source": [
        "print(\"\\033[0;30m\"+\"Texto normal en color negro\")\n",
        "print(\"\\033[0;31m\"+\"Texto normal en color rojo\") \n",
        "print(\"\\033[0;32m\"+\"Texto normal en color verde\") \n",
        "print(\"\\033[0;33m\"+\"Texto normal en color amarillo\") \n",
        "print(\"\\033[0;34m\"+\"Texto normal en color azul\") \n",
        "print(\"\\033[0;35m\"+\"Texto normal en color rosa\") \n",
        "print(\"\\033[0;36m\"+\"Texto normal en color cian\") \n",
        "print(\"\\033[0;37m\"+\"Texto normal en color gris\")"
      ],
      "execution_count": null,
      "outputs": [
        {
          "output_type": "stream",
          "text": [
            "\u001b[0;30mTexto normal en color negro\n",
            "\u001b[0;31mTexto normal en color rojo\n",
            "\u001b[0;32mTexto normal en color verde\n",
            "\u001b[0;33mTexto normal en color amarillo\n",
            "\u001b[0;34mTexto normal en color azul\n",
            "\u001b[0;35mTexto normal en color rosa\n",
            "\u001b[0;36mTexto normal en color cian\n",
            "\u001b[0;37mTexto normal en color gris\n"
          ],
          "name": "stdout"
        }
      ]
    },
    {
      "cell_type": "code",
      "source": [
        "lista=[1,2,3,4,5]\n",
        "lista=[2,3,4,5,1]\n",
        "\n",
        "print(lista[0]+lista[1])"
      ],
      "metadata": {
        "colab": {
          "base_uri": "https://localhost:8080/"
        },
        "id": "H-ee9d3285Ha",
        "outputId": "76999475-be61-47d2-8b97-88edcd256fdf"
      },
      "execution_count": null,
      "outputs": [
        {
          "output_type": "stream",
          "name": "stdout",
          "text": [
            "3\n"
          ]
        }
      ]
    },
    {
      "cell_type": "code",
      "metadata": {
        "colab": {
          "base_uri": "https://localhost:8080/"
        },
        "id": "OnLSOBAflXCi",
        "outputId": "46a5a8a3-d105-464d-d158-b5898a3c8d09"
      },
      "source": [
        "print(\"\\033[4;30m\"+\"Texto normal subrayado en color negro\")\n",
        "print(\"\\033[4;31m\"+\"Texto normal subrayado en color rojo\") \n",
        "print(\"\\033[4;32m\"+\"Texto normal subrayado en color verde\") \n",
        "print(\"\\033[4;33m\"+\"Texto normal subrayado en color amarillo\") \n",
        "print(\"\\033[4;34m\"+\"Texto normal subrayado en color azul\") \n",
        "print(\"\\033[4;35m\"+\"Texto normal subrayado en color rosa\") \n",
        "print(\"\\033[4;36m\"+\"Texto normal subrayado en color cian\") \n",
        "print(\"\\033[4;37m\"+\"Texto normal subrayado en color gris\")"
      ],
      "execution_count": null,
      "outputs": [
        {
          "output_type": "stream",
          "text": [
            "\u001b[4;30mTexto normal subrayado en color negro\n",
            "\u001b[4;31mTexto normal subrayado en color rojo\n",
            "\u001b[4;32mTexto normal subrayado en color verde\n",
            "\u001b[4;33mTexto normal subrayado en color amarillo\n",
            "\u001b[4;34mTexto normal subrayado en color azul\n",
            "\u001b[4;35mTexto normal subrayado en color rosa\n",
            "\u001b[4;36mTexto normal subrayado en color cian\n",
            "\u001b[4;37mTexto normal subrayado en color gris\n"
          ],
          "name": "stdout"
        }
      ]
    },
    {
      "cell_type": "code",
      "metadata": {
        "colab": {
          "base_uri": "https://localhost:8080/"
        },
        "id": "vMLNZFzFl0Az",
        "outputId": "fe8ddc0e-8dcf-4741-8299-38ca99be53d3"
      },
      "source": [
        "print(\"\\033[3;30m\"+\"Texto en cursiva en color negro\")\n",
        "print(\"\\033[3;31m\"+\"Texto en cursiva en color rojo\") \n",
        "print(\"\\033[3;32m\"+\"Texto en cursiva en color verde\") \n",
        "print(\"\\033[3;33m\"+\"Texto en cursiva en color amarillo\") \n",
        "print(\"\\033[3;34m\"+\"Texto en cursiva en color azul\") \n",
        "print(\"\\033[3;35m\"+\"Texto en cursiva en color rosa\") \n",
        "print(\"\\033[3;36m\"+\"Texto en cursiva en color cian\") \n",
        "print(\"\\033[3;37m\"+\"Texto en cursiva en color gris\")"
      ],
      "execution_count": null,
      "outputs": [
        {
          "output_type": "stream",
          "text": [
            "\u001b[3;30mTexto en cursiva en color negro\n",
            "\u001b[3;31mTexto en cursiva en color rojo\n",
            "\u001b[3;32mTexto en cursiva en color verde\n",
            "\u001b[3;33mTexto en cursiva en color amarillo\n",
            "\u001b[3;34mTexto en cursiva en color azul\n",
            "\u001b[3;35mTexto en cursiva en color rosa\n",
            "\u001b[3;36mTexto en cursiva en color cian\n",
            "\u001b[3;37mTexto en cursiva en color gris\n"
          ],
          "name": "stdout"
        }
      ]
    },
    {
      "cell_type": "code",
      "metadata": {
        "colab": {
          "base_uri": "https://localhost:8080/"
        },
        "id": "YvX6QXJcmVC6",
        "outputId": "fada305d-a7ba-4e31-c131-98f5e79fc9de"
      },
      "source": [
        "print(\"\\033[1;37;40m\"+\"Texto color blanco en negritas con fondo negro\")\n",
        "print(\"\\033[1;37;41m\"+\"Texto color blanco en negritas con fondo rojo\")\n",
        "print(\"\\033[1;37;42m\"+\"Texto color blanco en negritas con fondo verde\")\n",
        "print(\"\\033[1;37;43m\"+\"Texto color blanco en negritas con fondo amarillo\")\n",
        "print(\"\\033[1;37;44m\"+\"Texto color blanco en negritas con fondo azul\")\n",
        "print(\"\\033[1;37;45m\"+\"Texto color blanco en negritas con fondo rosa\")\n",
        "print(\"\\033[1;37;46m\"+\"Texto color blanco en negritas con fondo cian\")    \n",
        "print(\"\\033[1;30;47m\"+\"Texto color negro en negritas con fondo gris\") "
      ],
      "execution_count": null,
      "outputs": [
        {
          "output_type": "stream",
          "text": [
            "\u001b[1;37;40mTexto color blanco en negritas con fondo negro\n",
            "\u001b[1;37;41mTexto color blanco en negritas con fondo rojo\n",
            "\u001b[1;37;42mTexto color blanco en negritas con fondo verde\n",
            "\u001b[1;37;43mTexto color blanco en negritas con fondo amarillo\n",
            "\u001b[1;37;44mTexto color blanco en negritas con fondo azul\n",
            "\u001b[1;37;45mTexto color blanco en negritas con fondo rosa\n",
            "\u001b[1;37;46mTexto color blanco en negritas con fondo cian\n",
            "\u001b[1;30;47mTexto color negro en negritas con fondo gris\n"
          ],
          "name": "stdout"
        }
      ]
    },
    {
      "cell_type": "code",
      "metadata": {
        "id": "wceHqnQAceAr"
      },
      "source": [
        "#Variables globales\n",
        "\n",
        "\n",
        "def REGISTRO():\n",
        "\n",
        "\n",
        "def Transferencia(SALDO = 1000):\n",
        "\n",
        "def Transferencia(SALDO = 1000):\n",
        "\n",
        "def Transferencia(SALDO = 1000):\n",
        "\n",
        "#PROGRAMA PRINCIPAL\n",
        "#MENU\n",
        "\n",
        "if opc == 1:\n",
        "  Transferencia(SALDO)\n",
        "elif opc == 2:\n",
        "\n",
        "elif opc == 3:\n",
        "\n",
        "elif opc == 4:\n",
        "\n",
        "elif opc == 5:\n"
      ],
      "execution_count": null,
      "outputs": []
    }
  ]
}