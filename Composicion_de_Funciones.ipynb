{
  "nbformat": 4,
  "nbformat_minor": 0,
  "metadata": {
    "colab": {
      "provenance": [],
      "authorship_tag": "ABX9TyMoeqkKzVfL3DIfFGquxxST",
      "include_colab_link": true
    },
    "kernelspec": {
      "name": "python3",
      "display_name": "Python 3"
    },
    "language_info": {
      "name": "python"
    }
  },
  "cells": [
    {
      "cell_type": "markdown",
      "metadata": {
        "id": "view-in-github",
        "colab_type": "text"
      },
      "source": [
        "<a href=\"https://colab.research.google.com/github/arth5000/pythonmanual2022/blob/main/Composicion_de_Funciones.ipynb\" target=\"_parent\"><img src=\"https://colab.research.google.com/assets/colab-badge.svg\" alt=\"Open In Colab\"/></a>"
      ]
    },
    {
      "cell_type": "markdown",
      "metadata": {
        "id": "ggk9p_jPrgBR"
      },
      "source": []
    },
    {
      "cell_type": "markdown",
      "metadata": {
        "id": "XCSOW84mfVG0"
      },
      "source": [
        "**Código** 1<p>\n",
        "<img src=\"https://www.geogebra.org/resource/TMmXTtUQ/0FaVu5eAi1S8gj2b/material-TMmXTtUQ.png\" alt=\"slide\" border=\"0\" width=\"400px\" />"
      ]
    },
    {
      "cell_type": "code",
      "metadata": {
        "colab": {
          "base_uri": "https://localhost:8080/"
        },
        "id": "k8dFMbDCTwF_",
        "outputId": "e75ac136-4e51-40b0-f812-f31004e99847"
      },
      "source": [
        "# Coeficionte -> Discriminante\n",
        "def delta(a,b,c):\n",
        "  return  b**2-4*a*c\n",
        "# Cuantas raices tiene ?\n",
        "#coeficientes-> cantidad de raices reales\n",
        "def cant(a,b,c):\n",
        "  d= delta(a,b,c)\n",
        "  if d <0:\n",
        "    return 0\n",
        "  elif d>0:\n",
        "    return 2\n",
        "  else:\n",
        "    return 1\n",
        "\n",
        "# Cuales son las raices reales\n",
        "# coeficientes -> raices reales\n",
        "def raices (a,b,c):\n",
        "  d= delta(a,b,c)\n",
        "  c= cant(a,b,c)\n",
        "  if c!=0 :\n",
        "    r1=(-b+d**(0.5))/(2*a)\n",
        "    r2=(-b-d**(0.5))/(2*a)\n",
        "    return ([r1,r2]) # retorna una lista \n",
        "\n",
        "#Main\n",
        "print(\"Ingrese los coeficientes  distinto a 0\")\n",
        "print(\"Indique S  para finalizar o N para seguir\")\n",
        "fin=\"N\"\n",
        "\n",
        "while fin != \"S\":\n",
        "  a=int(input(\"a= \"))\n",
        "  if a==0:\n",
        "    print(\" no es una eq. de 2do. grado\")\n",
        "    break\n",
        "  else:\n",
        "    b=int(input(\"b= \"))\n",
        "    c=int(input(\"c= \"))\n",
        "    # print(cant(a,b,c))\n",
        "    if cant(a,b,c)== 2:\n",
        "      rr= raices(a,b,c) # Dos y diferentes\n",
        "      print(\"Esta funcion tiene dos raices reales\")\n",
        "      print(\"x1= \",rr[0])\n",
        "      print(\"x2= \",rr[1])\n",
        "    elif cant(a,b,c)== 1:\n",
        "      rr= raices(a,b,c) # Solo una y repetida\n",
        "      print(\"Esta funcion tiene una raiz doble\")\n",
        "      #print(\"x1= \",rr[0])\n",
        "      print(\"x1= \",rr[1])\n",
        "    else:\n",
        "      print(\"Esta funcion no tiene raices  procesables\")\n",
        "  fin=str(input(\" Para finalizar presiones S\"))\n",
        "print(\"Fin del programa\")\n",
        "# \n",
        "# https://en.wikipedia.org/wiki/Quadratic_function#/media/File:Polynomialdeg2.svg \n",
        "\n",
        "\n",
        "\n"
      ],
      "execution_count": null,
      "outputs": [
        {
          "output_type": "stream",
          "text": [
            "Ingrese los coeficientes  distinto a 0\n",
            "Indique S  para finalizar o N para seguir\n",
            "a= 1\n",
            "b= -1\n",
            "c= -2\n",
            "Esta funcion tiene dos raices reales\n",
            "x1=  2.0\n",
            "x2=  -1.0\n",
            " Para finalizar presiones Sy\n",
            "a= -9\n",
            "b= -2\n",
            "c= 1\n",
            "Esta funcion tiene dos raices reales\n",
            "x1=  -0.4624752955742644\n",
            "x2=  0.24025307335204216\n",
            " Para finalizar presiones SS\n",
            "Fin del programa\n"
          ],
          "name": "stdout"
        }
      ]
    },
    {
      "cell_type": "markdown",
      "metadata": {
        "id": "lxa0xTiGnOpX"
      },
      "source": [
        "<img src=\"https://i.ibb.co/jVvBTpn/chrome-2021-05-25-03-19-58.png\" alt=\"slide\" border=\"0\"  width=\"350px\" />"
      ]
    },
    {
      "cell_type": "markdown",
      "metadata": {
        "id": "mHb-KkIefPOF"
      },
      "source": [
        "Código 2\n",
        "Considere el funcionamiento de la siguiente manera:<p>\n",
        "<img src=\"https://i.ibb.co/w6R70Pg/chrome-2021-05-25-02-52-43.png\" alt=\"slide\" border=\"0\" width=\"200px\" />"
      ]
    },
    {
      "cell_type": "code",
      "metadata": {
        "colab": {
          "base_uri": "https://localhost:8080/"
        },
        "id": "fWiC2A7ddCoM",
        "outputId": "538075a9-7bec-4c43-a886-04c97de9b5d5"
      },
      "source": [
        "# https://www.w3resource.com/python-exercises/python-functions-exercise-1.php\n",
        "def max_of_two( x, y ):\n",
        "    if x > y:\n",
        "        return x\n",
        "    return y\n",
        "def max_of_three( x, y, z ):\n",
        "    return max_of_two( x, max_of_two( y, z ) )\n",
        "\n",
        "#main starts\n",
        "print(max_of_three(3, 6, -5))\n"
      ],
      "execution_count": null,
      "outputs": [
        {
          "output_type": "stream",
          "text": [
            "6\n"
          ],
          "name": "stdout"
        }
      ]
    },
    {
      "cell_type": "markdown",
      "metadata": {
        "id": "nMUr89WZrjYA"
      },
      "source": [
        "TAREA:\n",
        "\n"
      ]
    },
    {
      "cell_type": "code",
      "metadata": {
        "colab": {
          "base_uri": "https://localhost:8080/"
        },
        "id": "TRgWpfqarmP_",
        "outputId": "f50e09e5-2f5a-4893-a7ce-61220a9bc678"
      },
      "source": [
        "#def divisores(a):\n",
        "#  return [x for x in range(1,a+1) if a%x==0]\n",
        "\n",
        "def divisores(a):#3\n",
        "  l=[]             #n-1\n",
        "  for x in range(1,a+1):#1,2,3\n",
        "    if a%x==0:\n",
        "      l.append(x)\n",
        "  return l\n",
        "\n",
        "def esprimo(a):\n",
        "  d=divisores(a)\n",
        "  return d==[1,a]  \n",
        "\n",
        "#divisores(10)\n",
        "esprimo(10)"
      ],
      "execution_count": null,
      "outputs": [
        {
          "output_type": "execute_result",
          "data": {
            "text/plain": [
              "False"
            ]
          },
          "metadata": {
            "tags": []
          },
          "execution_count": 13
        }
      ]
    },
    {
      "cell_type": "code",
      "metadata": {
        "colab": {
          "base_uri": "https://localhost:8080/"
        },
        "id": "B1046tt3UIjn",
        "outputId": "a5b6b819-45fe-4eb4-a79c-8f22ebbf6f9d"
      },
      "source": [
        "import math\n",
        "\n",
        "print( math.pi )\n"
      ],
      "execution_count": null,
      "outputs": [
        {
          "output_type": "stream",
          "text": [
            "3.141592653589793\n"
          ],
          "name": "stdout"
        }
      ]
    }
  ]
}