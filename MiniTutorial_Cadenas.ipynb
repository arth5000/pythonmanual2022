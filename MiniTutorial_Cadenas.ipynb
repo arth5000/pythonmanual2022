{
  "nbformat": 4,
  "nbformat_minor": 0,
  "metadata": {
    "colab": {
      "provenance": [],
      "authorship_tag": "ABX9TyNNw7NCbR5DgBVIldnwI/uB",
      "include_colab_link": true
    },
    "kernelspec": {
      "name": "python3",
      "display_name": "Python 3"
    }
  },
  "cells": [
    {
      "cell_type": "markdown",
      "metadata": {
        "id": "view-in-github",
        "colab_type": "text"
      },
      "source": [
        "<a href=\"https://colab.research.google.com/github/arth5000/pythonmanual2022/blob/main/MiniTutorial_Cadenas.ipynb\" target=\"_parent\"><img src=\"https://colab.research.google.com/assets/colab-badge.svg\" alt=\"Open In Colab\"/></a>"
      ]
    },
    {
      "cell_type": "markdown",
      "metadata": {
        "id": "baZBF8-ESkIR"
      },
      "source": [
        "Un tipo de dato básico de la programación es el tipo cadena (**string**).\n",
        "Este dato representa un texto el cual puede ser desde un solo caracter hasta un parrafo completo.\n",
        "Acontinuación se presentaran ejemplos significativos de este tipo de dato:"
      ]
    },
    {
      "cell_type": "markdown",
      "metadata": {
        "id": "AzGTxOPQXeXe"
      },
      "source": [
        "En este ejemplo se define una cadena mediante el uso de comillas "
      ]
    },
    {
      "cell_type": "code",
      "metadata": {
        "id": "ok8H4qhIX9M4",
        "colab": {
          "base_uri": "https://localhost:8080/"
        },
        "outputId": "c2521a50-3b96-4459-bd0b-92baa4335fa7"
      },
      "source": [
        "cadena=\"Hola mi nombre es Arturo uno mis mayores hobbies es programar en python en diferentes entornos de aplicación \"\n",
        "print(cadena)"
      ],
      "execution_count": null,
      "outputs": [
        {
          "output_type": "stream",
          "text": [
            "Hola mi nombre es Arturo uno mis mayores hobbies es programar en python en diferentes entornos de aplicación \n"
          ],
          "name": "stdout"
        }
      ]
    },
    {
      "cell_type": "markdown",
      "metadata": {
        "id": "SRSEYuZJX49o"
      },
      "source": [
        "Mediante el uso tres comillas tanto de inicio y cierre se define una cadena multilinea."
      ]
    },
    {
      "cell_type": "markdown",
      "metadata": {
        "id": "XgAjH3VDXa9J"
      },
      "source": [
        "Es conveniente recordar que mediante \\n se realiza la tabulación vertical:"
      ]
    },
    {
      "cell_type": "markdown",
      "metadata": {
        "id": "JURbDVvo3TeC"
      },
      "source": [
        "Aqui un ejemplo de ambos ejemplos en uno solo código."
      ]
    },
    {
      "cell_type": "code",
      "metadata": {
        "id": "0FhykjBRSg9r",
        "colab": {
          "base_uri": "https://localhost:8080/"
        },
        "outputId": "d19c0d23-0b52-49fb-f55c-4c56110d8bbe"
      },
      "source": [
        "parrafo=\"\"\"Python es un lenguaje de programación interpretado cuya filosofía hace hincapié en la legibilidad de su código.2​ Se trata de un lenguaje de programación multiparadigma, ya que soporta parcialmente la orientación a objetos, programación imperativa y, en menor medida, programación funcional. Es un lenguaje interpretado, dinámico y multiplataforma.\n",
        "Es administrado por la Python Software Foundation. Posee una licencia de código abierto, denominada Python Software Foundation License\n",
        "\"\"\"\n",
        "\n",
        "print(parrafo)"
      ],
      "execution_count": null,
      "outputs": [
        {
          "output_type": "stream",
          "text": [
            "Python es un lenguaje de programación interpretado cuya filosofía hace hincapié en la legibilidad de su código.2​ Se trata de un lenguaje de programación multiparadigma, ya que soporta parcialmente la orientación a objetos, programación imperativa y, en menor medida, programación funcional. Es un lenguaje interpretado, dinámico y multiplataforma.\n",
            "Es administrado por la Python Software Foundation. Posee una licencia de código abierto, denominada Python Software Foundation License\n",
            "\n"
          ],
          "name": "stdout"
        }
      ]
    },
    {
      "cell_type": "code",
      "metadata": {
        "colab": {
          "base_uri": "https://localhost:8080/"
        },
        "id": "SScv7CkEYPgA",
        "outputId": "f509acf0-dbc6-439c-fea8-f3ee5b09e17a"
      },
      "source": [
        "cadena=\"Hola mi nombre es Arturo uno mis mayores hobbies es programar en python  \\n\"\n",
        "parrafo=\"\"\"Python es un lenguaje de programación interpretado \\n cuya filosofía hace hincapié en la legibilidad de su código.\n",
        "\"\"\"\n",
        "\n",
        "print(cadena)\n",
        "\n",
        "print(parrafo)"
      ],
      "execution_count": null,
      "outputs": [
        {
          "output_type": "stream",
          "text": [
            "Hola mi nombre es Arturo uno mis mayores hobbies es programar en python  \n",
            "\n",
            "Python es un lenguaje de programación interpretado \n",
            " cuya filosofía hace hincapié en la legibilidad de su código.\n",
            "\n"
          ],
          "name": "stdout"
        }
      ]
    },
    {
      "cell_type": "markdown",
      "metadata": {
        "id": "HN2sb9zQgwfD"
      },
      "source": [
        "La impresión multiple es posible mediante esta forma:"
      ]
    },
    {
      "cell_type": "code",
      "metadata": {
        "colab": {
          "base_uri": "https://localhost:8080/"
        },
        "id": "lnzwiPFcg38I",
        "outputId": "60bb9ff7-133a-435e-dd00-fa40aa0c09ed"
      },
      "source": [
        "name=\"Arturo \"*10\n",
        "print(name)"
      ],
      "execution_count": null,
      "outputs": [
        {
          "output_type": "stream",
          "text": [
            "Arturo Arturo Arturo Arturo Arturo Arturo Arturo Arturo Arturo Arturo \n"
          ],
          "name": "stdout"
        }
      ]
    },
    {
      "cell_type": "code",
      "metadata": {
        "colab": {
          "base_uri": "https://localhost:8080/"
        },
        "id": "cK-njQ3UZO1I",
        "outputId": "ff8e21d8-3e2e-4232-a804-27503474d46e"
      },
      "source": [
        "name=\"Arturo\"\n",
        "LastName=\"Valdivia Glez.\"\n",
        "NombreCompleto=name+LastName\n",
        "print(\"\\n\",NombreCompleto)"
      ],
      "execution_count": null,
      "outputs": [
        {
          "output_type": "stream",
          "text": [
            "\n",
            " ArturoValdivia Glez.\n"
          ],
          "name": "stdout"
        }
      ]
    },
    {
      "cell_type": "markdown",
      "metadata": {
        "id": "itvj0nx3ZCBo"
      },
      "source": [
        "La cadenas pueden unirse con otras cadena a esta operación se le denomina CONCATENACIÓN DE CADENAS:"
      ]
    },
    {
      "cell_type": "markdown",
      "metadata": {
        "id": "jBoW7VEQaDif"
      },
      "source": [
        "Trabajar con cadenas simpre requerira de hacer ajustes para que se presenten de la manera adecuada al usuario, tal como se mostro en el ejericio anterior es necesario insertar un espacio entre el nombre y los apellidos. La forma de resolver esto es la siguiente:"
      ]
    },
    {
      "cell_type": "code",
      "metadata": {
        "colab": {
          "base_uri": "https://localhost:8080/"
        },
        "id": "NdFqdx9XaaUN",
        "outputId": "012a0786-7782-4c18-eb6e-c5df6a5c349a"
      },
      "source": [
        "name=\"Arturo\"\n",
        "LastName=\"Valdivia Glez.\"\n",
        "NombreCompleto=name+\" \"+LastName\n",
        "print(\"\\n\",NombreCompleto)"
      ],
      "execution_count": null,
      "outputs": [
        {
          "output_type": "stream",
          "text": [
            "\n",
            " Arturo Valdivia Glez.\n"
          ],
          "name": "stdout"
        }
      ]
    },
    {
      "cell_type": "markdown",
      "metadata": {
        "id": "yowVxMMcahpo"
      },
      "source": [
        "Es posible acceder a cada caracter de la cadena como se muestra a continuación:\n",
        "<img src=\"https://i.ibb.co/x3j7GJV/slide.png\" alt=\"slide\" border=\"0\" />"
      ]
    },
    {
      "cell_type": "code",
      "metadata": {
        "colab": {
          "base_uri": "https://localhost:8080/"
        },
        "id": "FP6MN_3Caik3",
        "outputId": "a969e19c-d26b-4298-91d7-528cefa97fba"
      },
      "source": [
        "CADENA=\"PROGRAMIZ!\"\n",
        "print(CADENA[0])\n",
        "print(CADENA[1])\n",
        "print(CADENA[2])\n",
        "print(CADENA[3])\n",
        "print(CADENA[4])\n",
        "print(CADENA[5])\n",
        "print(CADENA[6])\n",
        "print(CADENA[7])\n",
        "print(CADENA[8])\n",
        "print(CADENA[9])\n",
        "\n"
      ],
      "execution_count": null,
      "outputs": [
        {
          "output_type": "stream",
          "text": [
            "P\n",
            "R\n",
            "O\n",
            "G\n",
            "R\n",
            "A\n",
            "M\n",
            "I\n",
            "Z\n",
            "!\n"
          ],
          "name": "stdout"
        }
      ]
    },
    {
      "cell_type": "markdown",
      "metadata": {
        "id": "ok8BQ_kIfDOx"
      },
      "source": [
        "También es posible seleccionar mas de un caracter para hacer cortes de cadenas o subcadenas. <img src=\"https://i.ibb.co/x3j7GJV/slide.png\" alt=\"slide\" border=\"0\" />"
      ]
    },
    {
      "cell_type": "code",
      "metadata": {
        "colab": {
          "base_uri": "https://localhost:8080/"
        },
        "id": "gLGHk55JfO2i",
        "outputId": "6f8a9650-4e9b-426d-ebfe-097d207c67fb"
      },
      "source": [
        "\n",
        "CADENA=\"PROGRAMIZ\"\n",
        "print(CADENA[0:3]) # corte de cadena desde 0 hasta 2\n",
        "\n",
        "print(CADENA[1:3]) # corte de cadena desde 1 hasta 2\n",
        "\n",
        "print(CADENA[3:])#corte desde 3 hasta el final\n",
        "\n",
        "print(CADENA[:7])#corte desde el inicio hasta 6"
      ],
      "execution_count": null,
      "outputs": [
        {
          "output_type": "stream",
          "text": [
            "PRO\n",
            "RO\n",
            "GRAMIZ\n",
            "PROGRAM\n"
          ],
          "name": "stdout"
        }
      ]
    },
    {
      "cell_type": "markdown",
      "metadata": {
        "id": "lj-eKHDb8dKA"
      },
      "source": [
        "Lectura de texto del usuario es posible mediante  el comando input:"
      ]
    },
    {
      "cell_type": "code",
      "metadata": {
        "colab": {
          "base_uri": "https://localhost:8080/"
        },
        "id": "VeArlF0R8t7p",
        "outputId": "3b3c3497-bc1c-4c35-84fe-ced37b6f728b"
      },
      "source": [
        "txtUSER=str(input(\"Escribe tu Nombre  completo\"))\n",
        "print(\"Eres Bienvenido a este curso:\",txtUSER,\"\")"
      ],
      "execution_count": null,
      "outputs": [
        {
          "output_type": "stream",
          "text": [
            "Escribe tu Nombre  completoArturo\n",
            "Eres Bienvenido a este curso: Arturo \n"
          ],
          "name": "stdout"
        }
      ]
    }
  ]
}