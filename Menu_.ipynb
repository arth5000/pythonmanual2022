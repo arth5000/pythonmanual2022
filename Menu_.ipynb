{
  "nbformat": 4,
  "nbformat_minor": 0,
  "metadata": {
    "colab": {
      "provenance": [],
      "authorship_tag": "ABX9TyOxxTI8q1gN5etq3h+Sz28C",
      "include_colab_link": true
    },
    "kernelspec": {
      "name": "python3",
      "display_name": "Python 3"
    },
    "language_info": {
      "name": "python"
    }
  },
  "cells": [
    {
      "cell_type": "markdown",
      "metadata": {
        "id": "view-in-github",
        "colab_type": "text"
      },
      "source": [
        "<a href=\"https://colab.research.google.com/github/arth5000/pythonmanual2022/blob/main/Menu_.ipynb\" target=\"_parent\"><img src=\"https://colab.research.google.com/assets/colab-badge.svg\" alt=\"Open In Colab\"/></a>"
      ]
    },
    {
      "cell_type": "code",
      "metadata": {
        "colab": {
          "base_uri": "https://localhost:8080/"
        },
        "id": "LuQT2SeZgxoL",
        "outputId": "fba729b7-9358-4b0f-89f8-efe969d2bed5"
      },
      "source": [
        "bandera=1#valor default\n",
        "print(\"AQUI TEXTO EXPLICANDO TODAS LAS OPCIONES\")\n",
        "print(\"Para salir elija 31 y confirme con 0 para salir de todo este programa gral\")\n",
        "\n",
        "while bandera!=0:\n",
        "  opc=int(input(\"Que opción deseas ejecutar ??\"))\n",
        "\n",
        "  if opc==1:\n",
        "    print(\"Algo 1\")\n",
        "  elif opc==2:\n",
        "    print(\"Algo 2\")\n",
        "  elif opc==3:\n",
        "    print(\"Algo 3\")\n",
        "  elif opc==31:    \n",
        "    bandera=int(input(\"Esta seguro que sea salir?? entonces presione 0 y luego Enter\"))\n",
        "\n",
        "print(\"Fin del programa.. XD\")\n",
        "    \n",
        "    \n",
        "\n",
        "  \n"
      ],
      "execution_count": null,
      "outputs": [
        {
          "output_type": "stream",
          "name": "stdout",
          "text": [
            "AQUI TEXTO EXPLICANDO TODAS LAS OPCIONES\n",
            "Para salir elija 31 y confirme con 0 para salir de todo este programa gral\n",
            "Que opción deseas ejecutar ??1\n",
            "Algo 1\n",
            "Que opción deseas ejecutar ??2\n",
            "Algo 2\n",
            "Que opción deseas ejecutar ??3\n",
            "Algo 3\n",
            "Que opción deseas ejecutar ??31\n",
            "Esta seguro que sea salir?? entonces presione 0 y luego Enter0\n",
            "Fin del programa.. XD\n"
          ]
        }
      ]
    }
  ]
}