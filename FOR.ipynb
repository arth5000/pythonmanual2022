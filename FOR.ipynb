{
  "nbformat": 4,
  "nbformat_minor": 0,
  "metadata": {
    "colab": {
      "provenance": [],
      "authorship_tag": "ABX9TyM7bF2gDxvD0YXxXa06x1Y4",
      "include_colab_link": true
    },
    "kernelspec": {
      "name": "python3",
      "display_name": "Python 3"
    },
    "language_info": {
      "name": "python"
    }
  },
  "cells": [
    {
      "cell_type": "markdown",
      "metadata": {
        "id": "view-in-github",
        "colab_type": "text"
      },
      "source": [
        "<a href=\"https://colab.research.google.com/github/arth5000/pythonmanual2022/blob/main/FOR.ipynb\" target=\"_parent\"><img src=\"https://colab.research.google.com/assets/colab-badge.svg\" alt=\"Open In Colab\"/></a>"
      ]
    },
    {
      "cell_type": "markdown",
      "metadata": {
        "id": "TM403_Tejw8q"
      },
      "source": [
        "El ciclo for es una estructura cíclica cuya finalidad es ejecutar un código una cierta cantidad de veces. De manera general, en Python, la sintaxis de for es:\n",
        "\n",
        "\n",
        "\n",
        "```\n",
        "for k in iterable:\n",
        "    # hacer algo\n",
        "```\n",
        "\n",
        "\n",
        "Donde iterable es justamente eso, un iterable de Python que puede ser desde una lista hasta un string. Para la i-ésima iteración la variable de ciclo k adoptará el valor en la i-ésima posición de iterable.\n",
        "\n",
        "A continuación vemos un ejemplo muy básico:"
      ]
    },
    {
      "cell_type": "code",
      "metadata": {
        "colab": {
          "base_uri": "https://localhost:8080/"
        },
        "id": "nsgPhNyHjpEa",
        "outputId": "207b0319-f020-4d77-b18b-1a0f0adf879d"
      },
      "source": [
        "numeros = [10,20,30,40,50,60]\n",
        "for numero in numeros:\n",
        "    print(numero)"
      ],
      "execution_count": null,
      "outputs": [
        {
          "output_type": "stream",
          "name": "stdout",
          "text": [
            "10\n",
            "20\n",
            "30\n",
            "40\n",
            "50\n",
            "60\n"
          ]
        }
      ]
    },
    {
      "cell_type": "markdown",
      "metadata": {
        "id": "U68D7_M1kB1e"
      },
      "source": [
        "Observe que lo único que se hace es imprimir cada elemento que compone la lista numeros.\n",
        "\n",
        "Revisemos ahora el siguiente ejemplo:"
      ]
    },
    {
      "cell_type": "code",
      "metadata": {
        "colab": {
          "base_uri": "https://localhost:8080/"
        },
        "id": "qDFhV8ZvkBJ4",
        "outputId": "766ed36c-1a89-42ac-f8cd-33c0340f9066"
      },
      "source": [
        "numeros = [10,20,30,40,50,60]\n",
        "for numero in numeros:\n",
        "    print(numero, numero**2)"
      ],
      "execution_count": null,
      "outputs": [
        {
          "output_type": "stream",
          "name": "stdout",
          "text": [
            "10 100\n",
            "20 400\n",
            "30 900\n",
            "40 1600\n",
            "50 2500\n",
            "60 3600\n"
          ]
        }
      ]
    },
    {
      "cell_type": "markdown",
      "metadata": {
        "id": "AlTlRN8ukGh6"
      },
      "source": [
        "Note que la única diferencia radica, en que además del propio número, también imprimos su cuadrado.\n",
        "\n",
        "Naturalmente, no sólo podemos \"recorrer\" listas, sino cualquier elemento que sea iterable, como es el caso de los strings.\n",
        "\n"
      ]
    },
    {
      "cell_type": "code",
      "metadata": {
        "colab": {
          "base_uri": "https://localhost:8080/"
        },
        "id": "Y-yVVYcckHBl",
        "outputId": "a9f9ea97-3629-40b0-aadc-e55b5c8725fd"
      },
      "source": [
        "nombres = [\"Ana\", \"Lucas\", \"Catalina\", \"Javier\"]\n",
        "for nombre in nombres:\n",
        "    print(\"Hola \" + nombre)"
      ],
      "execution_count": null,
      "outputs": [
        {
          "output_type": "stream",
          "name": "stdout",
          "text": [
            "Hola Ana\n",
            "Hola Lucas\n",
            "Hola Catalina\n",
            "Hola Javier\n"
          ]
        }
      ]
    },
    {
      "cell_type": "markdown",
      "metadata": {
        "id": "ydyXoUiZkRtk"
      },
      "source": [
        "En ocasiones tenemos iterables dentro de otro iterable. Es posible acceder a cada elemento del sub-iterable utilizando múltiple variables de ciclo. Por ejemplo:"
      ]
    },
    {
      "cell_type": "code",
      "metadata": {
        "colab": {
          "base_uri": "https://localhost:8080/"
        },
        "id": "Jwr5BZI2kSOt",
        "outputId": "9abe2743-8e74-492f-9a03-326d6c830d45"
      },
      "source": [
        "puntos = [(0,0), (3,5), (-1,4), (10,2)]\n",
        "for x,y in puntos:\n",
        "    #print(\"Px = {0},  Py ={1}\".format(x,y))\n",
        "    print(\"Px =\",x,\"Py\",y)"
      ],
      "execution_count": null,
      "outputs": [
        {
          "output_type": "stream",
          "name": "stdout",
          "text": [
            "Px = 0 Py 0\n",
            "Px = 3 Py 5\n",
            "Px = -1 Py 4\n",
            "Px = 10 Py 2\n"
          ]
        }
      ]
    },
    {
      "cell_type": "markdown",
      "metadata": {
        "id": "KaEcT8N8ko4X"
      },
      "source": [
        "Una utilidad muy común es la de la función enumerate:"
      ]
    },
    {
      "cell_type": "code",
      "metadata": {
        "colab": {
          "base_uri": "https://localhost:8080/"
        },
        "id": "Tbg4c-MFdn2T",
        "outputId": "e1e9e172-976c-462d-ea81-d2250a7dc3bb"
      },
      "source": [
        "notas = [10,8,10,9,10,7]\n",
        "e=list(enumerate(notas))\n",
        "print(e)\n"
      ],
      "execution_count": null,
      "outputs": [
        {
          "output_type": "stream",
          "name": "stdout",
          "text": [
            "[(0, 10), (1, 8), (2, 10), (3, 9), (4, 10), (5, 7)]\n"
          ]
        }
      ]
    },
    {
      "cell_type": "code",
      "metadata": {
        "colab": {
          "base_uri": "https://localhost:8080/"
        },
        "id": "oJSOiIwIkpcY",
        "outputId": "a5b8d8dc-aa51-4190-eddd-20d83cd8dc84"
      },
      "source": [
        "notas = [10,8,10,9,10,7]\n",
        "for k,nota in enumerate(notas):\n",
        "    print(\"La nota en posición {0} es: {1}\".format(k,nota))"
      ],
      "execution_count": null,
      "outputs": [
        {
          "output_type": "stream",
          "name": "stdout",
          "text": [
            "La nota en posición 0 es: 10\n",
            "La nota en posición 1 es: 8\n",
            "La nota en posición 2 es: 10\n",
            "La nota en posición 3 es: 9\n",
            "La nota en posición 4 es: 10\n",
            "La nota en posición 5 es: 7\n"
          ]
        }
      ]
    },
    {
      "cell_type": "markdown",
      "metadata": {
        "id": "sMlSkl1rkr6y"
      },
      "source": [
        "De manera muy breve, la variable de ciclo k devuelve la posición del elemento para cada iteración.\n",
        "\n",
        "Algunos ejemplos utilizando ciclos for\n",
        "Una tabla de multiplicar\n",
        "\n"
      ]
    },
    {
      "cell_type": "code",
      "metadata": {
        "colab": {
          "base_uri": "https://localhost:8080/"
        },
        "id": "ldaPUvkuksG7",
        "outputId": "4e604f27-1b5a-4f21-b492-ff935171b672"
      },
      "source": [
        "n = 2\n",
        "for k in range(1,11):\n",
        "    print(\"{0} x {1} = {2}\".format(n,k,n*k))"
      ],
      "execution_count": null,
      "outputs": [
        {
          "output_type": "stream",
          "name": "stdout",
          "text": [
            "2 x 1 = 2\n",
            "2 x 2 = 4\n",
            "2 x 3 = 6\n",
            "2 x 4 = 8\n",
            "2 x 5 = 10\n",
            "2 x 6 = 12\n",
            "2 x 7 = 14\n",
            "2 x 8 = 16\n",
            "2 x 9 = 18\n",
            "2 x 10 = 20\n"
          ]
        }
      ]
    },
    {
      "cell_type": "markdown",
      "metadata": {
        "id": "rp2LuxY0k4FH"
      },
      "source": [
        "Un triángulo de caracteres"
      ]
    },
    {
      "cell_type": "code",
      "metadata": {
        "id": "BLTvsSwEk4NO",
        "colab": {
          "base_uri": "https://localhost:8080/"
        },
        "outputId": "fb0581d3-ba62-4fe7-8759-fa53da46b802"
      },
      "source": [
        "n = 10\n",
        "for k in range(1,n+1):\n",
        "    print(\"*\"*k)"
      ],
      "execution_count": null,
      "outputs": [
        {
          "output_type": "stream",
          "name": "stdout",
          "text": [
            "*\n",
            "**\n",
            "***\n",
            "****\n",
            "*****\n",
            "******\n",
            "*******\n",
            "********\n",
            "*********\n",
            "**********\n"
          ]
        }
      ]
    },
    {
      "cell_type": "markdown",
      "metadata": {
        "id": "By12Ly9sk8O6"
      },
      "source": [
        "Contando vocales"
      ]
    },
    {
      "cell_type": "code",
      "metadata": {
        "colab": {
          "base_uri": "https://localhost:8080/"
        },
        "id": "iEZOhHJFk8ZT",
        "outputId": "34fb95b0-2a27-478c-8823-f19477500c89"
      },
      "source": [
        "frase = \"Anita lava la tina\"\n",
        "k = 0\n",
        "for letra in frase.lower():\n",
        "    if letra in (\"a\",\"e\",\"i\",\"o\",\"u\"):\n",
        "        k += 1\n",
        "\n",
        "#print(\"Hay {0} vocales\".format(k))\n",
        "print(\"Hay\",k,\"  vocales\")"
      ],
      "execution_count": null,
      "outputs": [
        {
          "output_type": "stream",
          "name": "stdout",
          "text": [
            "Hay 8 vocales\n"
          ]
        }
      ]
    },
    {
      "cell_type": "markdown",
      "metadata": {
        "id": "Xgx1_-pDlLV4"
      },
      "source": [
        "La suma de los primeros cien enteros positivos"
      ]
    },
    {
      "cell_type": "code",
      "metadata": {
        "colab": {
          "base_uri": "https://localhost:8080/"
        },
        "id": "Sw7jbtg1lNt2",
        "outputId": "844ef008-a8cc-4500-dfe0-5793d9777cb4"
      },
      "source": [
        "suma = 0\n",
        "for num in range(1,101):\n",
        "  print(num)\n",
        "  suma += num\n",
        "\n",
        "print(suma)"
      ],
      "execution_count": null,
      "outputs": [
        {
          "output_type": "stream",
          "name": "stdout",
          "text": [
            "1\n",
            "2\n",
            "3\n",
            "4\n",
            "5\n",
            "6\n",
            "7\n",
            "8\n",
            "9\n",
            "10\n",
            "11\n",
            "12\n",
            "13\n",
            "14\n",
            "15\n",
            "16\n",
            "17\n",
            "18\n",
            "19\n",
            "20\n",
            "21\n",
            "22\n",
            "23\n",
            "24\n",
            "25\n",
            "26\n",
            "27\n",
            "28\n",
            "29\n",
            "30\n",
            "31\n",
            "32\n",
            "33\n",
            "34\n",
            "35\n",
            "36\n",
            "37\n",
            "38\n",
            "39\n",
            "40\n",
            "41\n",
            "42\n",
            "43\n",
            "44\n",
            "45\n",
            "46\n",
            "47\n",
            "48\n",
            "49\n",
            "50\n",
            "51\n",
            "52\n",
            "53\n",
            "54\n",
            "55\n",
            "56\n",
            "57\n",
            "58\n",
            "59\n",
            "60\n",
            "61\n",
            "62\n",
            "63\n",
            "64\n",
            "65\n",
            "66\n",
            "67\n",
            "68\n",
            "69\n",
            "70\n",
            "71\n",
            "72\n",
            "73\n",
            "74\n",
            "75\n",
            "76\n",
            "77\n",
            "78\n",
            "79\n",
            "80\n",
            "81\n",
            "82\n",
            "83\n",
            "84\n",
            "85\n",
            "86\n",
            "87\n",
            "88\n",
            "89\n",
            "90\n",
            "91\n",
            "92\n",
            "93\n",
            "94\n",
            "95\n",
            "96\n",
            "97\n",
            "98\n",
            "99\n",
            "100\n",
            "5050\n"
          ]
        }
      ]
    }
  ]
}