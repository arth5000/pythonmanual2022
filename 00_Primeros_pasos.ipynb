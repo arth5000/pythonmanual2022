{
  "nbformat": 4,
  "nbformat_minor": 0,
  "metadata": {
    "colab": {
      "provenance": [],
      "authorship_tag": "ABX9TyMnXXMOGmPNQOMOPprtKLh+",
      "include_colab_link": true
    },
    "kernelspec": {
      "name": "python3",
      "display_name": "Python 3"
    }
  },
  "cells": [
    {
      "cell_type": "markdown",
      "metadata": {
        "id": "view-in-github",
        "colab_type": "text"
      },
      "source": [
        "<a href=\"https://colab.research.google.com/github/arth5000/pythonmanual2022/blob/main/00_Primeros_pasos.ipynb\" target=\"_parent\"><img src=\"https://colab.research.google.com/assets/colab-badge.svg\" alt=\"Open In Colab\"/></a>"
      ]
    },
    {
      "cell_type": "markdown",
      "metadata": {
        "id": "BIm6CNfGMEPa"
      },
      "source": [
        "Este cuaderno documenta los primeros comandos para ejemplificar el uso de collab con el commando **print**\n"
      ]
    },
    {
      "cell_type": "code",
      "metadata": {
        "colab": {
          "base_uri": "https://localhost:8080/"
        },
        "id": "583eWuT4MO3I",
        "outputId": "f920b98b-09a9-4997-9214-bdc6bc011935"
      },
      "source": [
        "print(\"Hola estoy aprendiendo python 3\")"
      ],
      "execution_count": null,
      "outputs": [
        {
          "output_type": "stream",
          "text": [
            "Hola estoy aprendiendo python 3\n"
          ],
          "name": "stdout"
        }
      ]
    },
    {
      "cell_type": "markdown",
      "metadata": {
        "id": "jfhKHdg8MzcM"
      },
      "source": [
        "Acontinuación se imprimira los valores de una variable donde A=3 y B= 9.21"
      ]
    },
    {
      "cell_type": "code",
      "metadata": {
        "colab": {
          "base_uri": "https://localhost:8080/"
        },
        "id": "ae0IoAA2M-JI",
        "outputId": "8e894a41-c7af-4dfc-dd91-fc5df417f01e"
      },
      "source": [
        "A=3\n",
        "B=9.21\n",
        "print(A)\n",
        "print(B)"
      ],
      "execution_count": null,
      "outputs": [
        {
          "output_type": "stream",
          "text": [
            "3\n",
            "9.21\n"
          ],
          "name": "stdout"
        }
      ]
    },
    {
      "cell_type": "markdown",
      "metadata": {
        "id": "OVTo7rV1NQNT"
      },
      "source": [
        "impresion de texto y valores usando** print()**"
      ]
    },
    {
      "cell_type": "code",
      "metadata": {
        "colab": {
          "base_uri": "https://localhost:8080/"
        },
        "id": "EfIpDcmfNV0y",
        "outputId": "7a8eb915-399a-46bd-9a95-a93b90eacd33"
      },
      "source": [
        "A=3\n",
        "B=9.21\n",
        "print(\"El valor de A es:\",A)\n",
        "print(\"El valor de B es: \",B)\n"
      ],
      "execution_count": null,
      "outputs": [
        {
          "output_type": "stream",
          "text": [
            "El valor de A es: 3\n",
            "El valor de B es:  9.21\n"
          ],
          "name": "stdout"
        }
      ]
    },
    {
      "cell_type": "markdown",
      "metadata": {
        "id": "NxJqnDADNq_c"
      },
      "source": [
        "para imprimir multiples textos y variables de usara la estructura \"TEXTO\", VAR,\"TEXT\"....."
      ]
    },
    {
      "cell_type": "code",
      "metadata": {
        "colab": {
          "base_uri": "https://localhost:8080/"
        },
        "id": "4E4D8rrUN2lI",
        "outputId": "815d4438-5420-412c-9dd7-631f05981152"
      },
      "source": [
        "A=3\n",
        "B=9.21\n",
        "print(\"Leyenda 1\",A,\"Leyenda 2\",B)\n"
      ],
      "execution_count": null,
      "outputs": [
        {
          "output_type": "stream",
          "text": [
            "Leyenda 1 3 Leyenda 2 9.21\n"
          ],
          "name": "stdout"
        }
      ]
    }
  ]
}