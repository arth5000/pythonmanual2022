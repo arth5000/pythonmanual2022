{
  "nbformat": 4,
  "nbformat_minor": 0,
  "metadata": {
    "colab": {
      "provenance": [],
      "authorship_tag": "ABX9TyPB/hHad2bhUpysjvo6Aefg",
      "include_colab_link": true
    },
    "kernelspec": {
      "name": "python3",
      "display_name": "Python 3"
    },
    "language_info": {
      "name": "python"
    }
  },
  "cells": [
    {
      "cell_type": "markdown",
      "metadata": {
        "id": "view-in-github",
        "colab_type": "text"
      },
      "source": [
        "<a href=\"https://colab.research.google.com/github/arth5000/pythonmanual2022/blob/main/02_IF_.ipynb\" target=\"_parent\"><img src=\"https://colab.research.google.com/assets/colab-badge.svg\" alt=\"Open In Colab\"/></a>"
      ]
    },
    {
      "cell_type": "markdown",
      "metadata": {
        "id": "DC3RNBMSDP-S"
      },
      "source": [
        "Estructura de control Selectiva(If)\n",
        "\n",
        "\n",
        "SI Condicion (Relacionales ó Operadores logicos, and , or not) :\n",
        "      Verdadero por tanto Realizo el bloque de Acciones A\n",
        "caso contrario:\n",
        "      Falsa la condicion realizo el bloque de  Acciones B\n",
        "\n",
        "\n"
      ]
    },
    {
      "cell_type": "code",
      "metadata": {
        "id": "eqHazBiLFPKP"
      },
      "source": [
        "a=10\n",
        "if a==0:\n",
        "  print(\"A es igual a Cero\")\n",
        "\n",
        "  "
      ],
      "execution_count": null,
      "outputs": []
    },
    {
      "cell_type": "code",
      "metadata": {
        "colab": {
          "base_uri": "https://localhost:8080/"
        },
        "id": "TTt5m5asFcAd",
        "outputId": "6271bef7-9faa-4e8e-a266-39bbe4aa70a7"
      },
      "source": [
        "a=0\n",
        "if a==0:\n",
        "  print(\"A es igual a Cero\")"
      ],
      "execution_count": null,
      "outputs": [
        {
          "output_type": "stream",
          "name": "stdout",
          "text": [
            "A es igual a Cero\n"
          ]
        }
      ]
    },
    {
      "cell_type": "code",
      "metadata": {
        "colab": {
          "base_uri": "https://localhost:8080/"
        },
        "id": "Vn01RXWBCgtK",
        "outputId": "f15b01fc-8b79-47cb-cead-540e08e89a07"
      },
      "source": [
        "a=10\n",
        "if a==0:\n",
        "  print(\"A es igual a Cero\")\n",
        "else:\n",
        "  print(\"A es diferente de Cero\")"
      ],
      "execution_count": null,
      "outputs": [
        {
          "output_type": "stream",
          "name": "stdout",
          "text": [
            "A es igual a Cero\n"
          ]
        }
      ]
    },
    {
      "cell_type": "code",
      "metadata": {
        "colab": {
          "base_uri": "https://localhost:8080/"
        },
        "id": "2w3i9Hy8E94A",
        "outputId": "4224c85e-0712-45d5-fae0-be4688d99f30"
      },
      "source": [
        "a=10\n",
        "if a==0:\n",
        "  print(\"A es igual a Cero\",a)\n",
        "else:\n",
        "  print(\"A es diferente de Cero\",a)"
      ],
      "execution_count": null,
      "outputs": [
        {
          "output_type": "stream",
          "name": "stdout",
          "text": [
            "A es diferente de Cero 10\n"
          ]
        }
      ]
    },
    {
      "cell_type": "markdown",
      "metadata": {
        "id": "vmWmH3FgFfot"
      },
      "source": [
        "Diseñe y codifique un programa en python 3.x donde se imprima un mensaje de bienvenida a un sitio web de virtud de la edad(informacion del).Si el usuario es mayor de 18 años puede acceder y le dala bienvenida .Si no lo es lo direcciona a otro sitio(Otra leyenda)."
      ]
    },
    {
      "cell_type": "code",
      "metadata": {
        "colab": {
          "base_uri": "https://localhost:8080/"
        },
        "id": "Q67VUDq8GKsK",
        "outputId": "43464446-2c31-42bc-a8f4-f4fa01204f7a"
      },
      "source": [
        "edad=int(input(\"Escribe tu edad\"))\n",
        "if edad>18:\n",
        "  print(\"Eres bienvenido\")\n",
        "else:\n",
        "  print(\"Tenemos otro sitio alterno\")"
      ],
      "execution_count": null,
      "outputs": [
        {
          "output_type": "stream",
          "name": "stdout",
          "text": [
            "Escribe tu edad12\n",
            "Tenemos otro sitio alterno\n"
          ]
        }
      ]
    },
    {
      "cell_type": "markdown",
      "metadata": {
        "id": "6u1EAT7cHHO0"
      },
      "source": [
        "Diseñe y codifique en python 3.x la validacion de datos para el calculo del perimetro de un triangulo.Imprimir datos en pantalla y marcar una leyenda con los datos esten incorrecto acorde a la validación."
      ]
    },
    {
      "cell_type": "code",
      "metadata": {
        "colab": {
          "base_uri": "https://localhost:8080/"
        },
        "id": "y8rLy6BNHZG9",
        "outputId": "8d477aee-2e0b-4c7f-fa59-d57fa95a2bbd"
      },
      "source": [
        "z=float(input(\"lado Z\"))\n",
        "y=float(input(\"lado y\"))\n",
        "x=float(input(\"lado x\"))\n",
        "\n",
        "d=(x*y*z)\n",
        "if d > 0:\n",
        "  print(\"Perimetro es \",(x+y+z))\n",
        "else:\n",
        "  print(\"Los datos de entrada no son diferentes de cero\")"
      ],
      "execution_count": null,
      "outputs": [
        {
          "output_type": "stream",
          "name": "stdout",
          "text": [
            "lado Z0\n",
            "lado y2\n",
            "lado x3\n",
            "Los datos de entrada no son diferentes de cero\n"
          ]
        }
      ]
    },
    {
      "cell_type": "code",
      "metadata": {
        "colab": {
          "base_uri": "https://localhost:8080/"
        },
        "id": "0esLybQQIr89",
        "outputId": "eb465654-be7c-4552-f663-fe5de2b58eb6"
      },
      "source": [
        "z=float(input(\"lado Z\"))\n",
        "y=float(input(\"lado y\"))\n",
        "x=float(input(\"lado x\"))\n",
        "\n",
        "\n",
        "if z != 0 and y !=0 and x !=0 :\n",
        "  print(\"Perimetro es \",(x+y+z))\n",
        "else:\n",
        "  print(\"Los datos de entrada no son diferentes de cero\")"
      ],
      "execution_count": null,
      "outputs": [
        {
          "output_type": "stream",
          "name": "stdout",
          "text": [
            "lado Z0\n",
            "lado y1\n",
            "lado x0\n",
            "Los datos de entrada no son diferentes de cero\n"
          ]
        }
      ]
    },
    {
      "cell_type": "code",
      "metadata": {
        "colab": {
          "base_uri": "https://localhost:8080/"
        },
        "id": "UZKY-zJgJMt-",
        "outputId": "8c710d83-534f-4916-8bff-45a164008fbb"
      },
      "source": [
        "z=float(input(\"lado Z\"))\n",
        "y=float(input(\"lado y\"))\n",
        "x=float(input(\"lado x\"))\n",
        "\n",
        "if z >= 80 and y <=100 and x !=0:\n",
        "  print(\"Perimetro es \",(x+y+z))\n",
        "else:\n",
        "  print(\"Los datos de entrada no las retricciones del problema\")"
      ],
      "execution_count": null,
      "outputs": [
        {
          "output_type": "stream",
          "name": "stdout",
          "text": [
            "lado Z79\n",
            "lado y50\n",
            "lado x1\n",
            "Los datos de entrada no son diferentes de cero\n"
          ]
        }
      ]
    }
  ]
}