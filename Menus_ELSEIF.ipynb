{
  "nbformat": 4,
  "nbformat_minor": 0,
  "metadata": {
    "colab": {
      "provenance": [],
      "authorship_tag": "ABX9TyPm4ntlsURyQ6497m4F9zVL",
      "include_colab_link": true
    },
    "kernelspec": {
      "name": "python3",
      "display_name": "Python 3"
    },
    "language_info": {
      "name": "python"
    }
  },
  "cells": [
    {
      "cell_type": "markdown",
      "metadata": {
        "id": "view-in-github",
        "colab_type": "text"
      },
      "source": [
        "<a href=\"https://colab.research.google.com/github/arth5000/pythonmanual2022/blob/main/Menus_ELSEIF.ipynb\" target=\"_parent\"><img src=\"https://colab.research.google.com/assets/colab-badge.svg\" alt=\"Open In Colab\"/></a>"
      ]
    },
    {
      "cell_type": "markdown",
      "source": [
        "\n",
        "\n",
        "```\n",
        "if (cond1):\n",
        "  algo1\n",
        "  if (cond2):\n",
        "    algo2\n",
        "  else:\n",
        "    algo4\n",
        "else:\n",
        "  algo3\n",
        "```\n",
        "\n",
        "\n"
      ],
      "metadata": {
        "id": "KPwbMhol0Y5k"
      }
    },
    {
      "cell_type": "code",
      "source": [
        "year=2022\n",
        "if year % 4 == 0:\n",
        "  if year % 100 == 0:\n",
        "    if year % 400 == 0:\n",
        "      print(\"{0} is a leap year\".format(year))\n",
        "    else:\n",
        "      print(\"{0} is not a leap year\".format(year))\n",
        "  else:\n",
        "       print(\"{0} is a leap year\".format(year))\n",
        "else:\n",
        "   print(\"{0} is not a leap year\".format(year))"
      ],
      "metadata": {
        "colab": {
          "base_uri": "https://localhost:8080/"
        },
        "id": "EJfEphwm0YVC",
        "outputId": "0a492914-8dc8-4b4f-83ad-e1226470dfc1"
      },
      "execution_count": null,
      "outputs": [
        {
          "output_type": "stream",
          "name": "stdout",
          "text": [
            "2022 is not a leap year\n"
          ]
        }
      ]
    },
    {
      "cell_type": "code",
      "source": [
        "year =2022\n",
        "if year % 4 == 0 and year% 100 ==0 and year % 400:\n",
        "  print(\"{0} is a leap year\".format(year))\n",
        "else:\n",
        "  if year % 4 == 0 and year % 100 != 0:\n",
        "    print(\"{0} is a leap year\".format(year))\n",
        "  else:\n",
        "    print(\"{0} is not a leap year\".format(year))"
      ],
      "metadata": {
        "colab": {
          "base_uri": "https://localhost:8080/"
        },
        "id": "d8pzHuhr1t3j",
        "outputId": "71bb98f6-eae0-4ef1-9686-8293d0c338df"
      },
      "execution_count": null,
      "outputs": [
        {
          "output_type": "stream",
          "name": "stdout",
          "text": [
            "2022 is not a leap year\n"
          ]
        }
      ]
    },
    {
      "cell_type": "code",
      "source": [
        "year =2022\n",
        "if year % 4 == 0 and year% 100 ==0 and year % 400:\n",
        "  print(\"{0} is a leap year\".format(year))\n",
        "elif year % 4 == 0 and year % 100 != 0:\n",
        "    print(\"{0} is a leap year\".format(year))\n",
        "else:\n",
        "    print(\"{0} is not a leap year\".format(year))"
      ],
      "metadata": {
        "colab": {
          "base_uri": "https://localhost:8080/"
        },
        "id": "HS-qqmzZ3vIg",
        "outputId": "3784656d-b642-4e74-a045-ba8ded5748f7"
      },
      "execution_count": null,
      "outputs": [
        {
          "output_type": "stream",
          "name": "stdout",
          "text": [
            "2022 is not a leap year\n"
          ]
        }
      ]
    },
    {
      "cell_type": "markdown",
      "source": [
        "Creacion de menus: cuantas opciones debe de tener, Explicacion de las opciones."
      ],
      "metadata": {
        "id": "_tQ8sLGX4Ir2"
      }
    },
    {
      "cell_type": "code",
      "source": [
        "print(\"MENU y su explicacion\")\n",
        "opc=int(input(\"Escribe que opcion quieres trabajar:> \"))\n",
        "\n",
        "if opc==1:\n",
        "  print(\"Algo1\")\n",
        "elif opc==2:\n",
        "  print(\"Algo2\")\n",
        "elif opc==3:\n",
        "  print(\"Algo3\")\n",
        "elif opc==4:\n",
        "  print(\"Algo4\")\n",
        "else:\n",
        "  print(\"Esa opcion no existe en este version v1.01\")\n"
      ],
      "metadata": {
        "colab": {
          "base_uri": "https://localhost:8080/"
        },
        "id": "ZAGkDjQT4Vd0",
        "outputId": "e3747a91-eec3-4b61-860b-738a4722209f"
      },
      "execution_count": null,
      "outputs": [
        {
          "output_type": "stream",
          "name": "stdout",
          "text": [
            "MENU y su explicacion\n",
            "Escribe que opcion quieres trabajar:> 1\n",
            "Algo1\n"
          ]
        }
      ]
    },
    {
      "cell_type": "code",
      "source": [
        "print(\"MENU y su explicacion\")\n",
        "opc=str(input(\"Escribe que opcion quieres trabajar:> \"))\n",
        "\n",
        "if opc==\"a\":\n",
        "  print(\"Algo1\")\n",
        "elif opc==\"b\":\n",
        "  print(\"Algo2\")\n",
        "elif opc==\"c\":\n",
        "  print(\"Algo3\")\n",
        "elif opc==\"d\":\n",
        "  print(\"Algo4\")\n",
        "else:\n",
        "  print(\"Esa opcion no existe en este version v1.01\")"
      ],
      "metadata": {
        "colab": {
          "base_uri": "https://localhost:8080/"
        },
        "id": "eld76hss5L4Y",
        "outputId": "2304ca7c-7625-4d2b-9f73-5a7d82c58af0"
      },
      "execution_count": null,
      "outputs": [
        {
          "output_type": "stream",
          "name": "stdout",
          "text": [
            "MENU y su explicacion\n",
            "Escribe que opcion quieres trabajar:> m\n",
            "Esa opcion no existe en este version v1.01\n"
          ]
        }
      ]
    },
    {
      "cell_type": "code",
      "source": [
        "import random\n",
        "explicacion=\"\"\"\n",
        "Opción a: Simulador de dado.\n",
        "Opción b: Conversión de Km a millas\n",
        "Opción c: Calculo del área de un triángulo\n",
        "Opción d: Suma de 2 números\n",
        "Opción Cualquier otro : Salir\n",
        "\"\"\"\n",
        "print(\"MENU:\")\n",
        "print(explicacion)\n",
        "\n",
        "opc=str(input(\"Escribe que opcion quieres trabajar:> \"))\n",
        "\n",
        "if opc.upper()==\"A\":\n",
        "  #Numeros aleatorios\n",
        "  print(\"Numero aletorio de un dado\",random.randint(1,6))\n",
        "\n",
        "elif opc.upper()==\"B\":\n",
        "  print(\"Conversion de Km a Millas\")\n",
        "  # Taking kilometers input from the user\n",
        "  kilometers = float(input(\"Enter value in kilometers: \"))\n",
        "  # conversion factor\n",
        "  conv_fac = 0.621371\n",
        "  # calculate miles\n",
        "  miles = kilometers * conv_fac\n",
        "  print(\"%0.2f kilometers is equal to %0.2f miles\" %(kilometers,miles))\n",
        "\n",
        "elif opc.upper()==\"C\":\n",
        "  print(\"Area de un triangulo\")\n",
        "  # Uncomment below to take inputs from the user\n",
        "  a = float(input('Enter first side: '))\n",
        "  b = float(input('Enter second side: '))\n",
        "  c = float(input('Enter third side: '))\n",
        "  s = (a + b + c) / 2\n",
        "  # calculate the area\n",
        "  area = (s*(s-a)*(s-b)*(s-c)) ** 0.5\n",
        "  print(\"The area of the triangle is %0.2f\" %area)\n",
        "\n",
        "elif opc.upper()=='D':\n",
        "  print(\"Suma de 2 numeros\")\n",
        "  # This program adds two numbers\n",
        "  num1 = float(input('Escribe un numero '))\n",
        "  num2 = float(input('Escribe otro numero '))\n",
        "\n",
        "  # Add two numbers\n",
        "  sum = num1 + num2\n",
        "  # Display the sum\n",
        "  print('The sum of {0} and {1} is {2}'.format(num1, num2, sum))\n",
        "\n",
        "else:\n",
        "  print(\"Esa opcion no existe en este version v1.01\")"
      ],
      "metadata": {
        "colab": {
          "base_uri": "https://localhost:8080/"
        },
        "id": "tsJ3m1255ov2",
        "outputId": "a72260fb-c754-462f-cd96-d36c32fce55e"
      },
      "execution_count": null,
      "outputs": [
        {
          "output_type": "stream",
          "name": "stdout",
          "text": [
            "MENU:\n",
            "\n",
            "Opción a: Simulador de dado.\n",
            "Opción b: Conversión de Km a millas\n",
            "Opción c: Calculo del área de un triángulo\n",
            "Opción d: Suma de 2 números\n",
            "Opción Cualquier otro : Salir\n",
            "\n",
            "Escribe que opcion quieres trabajar:> a\n",
            "Numero aletorio de un dado 4\n"
          ]
        }
      ]
    },
    {
      "cell_type": "code",
      "source": [
        "a=\"q\"\n",
        "print(a.upper() )"
      ],
      "metadata": {
        "colab": {
          "base_uri": "https://localhost:8080/"
        },
        "id": "7JeXTWf19rxI",
        "outputId": "4cea77b3-1c64-47e7-aae1-50f6f8030c6f"
      },
      "execution_count": null,
      "outputs": [
        {
          "output_type": "stream",
          "name": "stdout",
          "text": [
            "Q\n"
          ]
        }
      ]
    }
  ]
}