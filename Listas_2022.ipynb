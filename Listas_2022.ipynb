{
  "nbformat": 4,
  "nbformat_minor": 0,
  "metadata": {
    "colab": {
      "provenance": [],
      "authorship_tag": "ABX9TyM+wLrQPizsS4Ma4PZDfkxd",
      "include_colab_link": true
    },
    "kernelspec": {
      "name": "python3",
      "display_name": "Python 3"
    },
    "language_info": {
      "name": "python"
    }
  },
  "cells": [
    {
      "cell_type": "markdown",
      "metadata": {
        "id": "view-in-github",
        "colab_type": "text"
      },
      "source": [
        "<a href=\"https://colab.research.google.com/github/arth5000/pythonmanual2022/blob/main/Listas_2022.ipynb\" target=\"_parent\"><img src=\"https://colab.research.google.com/assets/colab-badge.svg\" alt=\"Open In Colab\"/></a>"
      ]
    },
    {
      "cell_type": "markdown",
      "source": [
        "\n",
        "**Listas:** Un dato estructurado, heterogeneo y dinámico\n",
        "\n",
        "Las listas de Python son uno de los tipos de datos más versátiles que nos permiten trabajar con múltiples elementos a la vez. Por ejemplo:\n",
        "\n",
        "**Archivo de Audio soundcloud**\n",
        "https://www.programiz.com/python-programming/list\n",
        "\n"
      ],
      "metadata": {
        "id": "NzybNTHFlDV4"
      }
    },
    {
      "cell_type": "code",
      "execution_count": null,
      "metadata": {
        "id": "svLKPXCkk21p",
        "colab": {
          "base_uri": "https://localhost:8080/"
        },
        "outputId": "1231975d-9ecf-49f9-db0f-406cb7bb380b"
      },
      "outputs": [
        {
          "output_type": "execute_result",
          "data": {
            "text/plain": [
              "['Python', 'C++', 'JavaScript']"
            ]
          },
          "metadata": {},
          "execution_count": 1
        }
      ],
      "source": [
        "['Python', 'C++', 'JavaScript']"
      ]
    },
    {
      "cell_type": "markdown",
      "source": [
        "# **Creacion de Listas**\n",
        "En Python, una lista se crea colocando elementos dentro de corchetes [], separados por comas."
      ],
      "metadata": {
        "id": "iHWfpmjZzJ8V"
      }
    },
    {
      "cell_type": "code",
      "source": [
        "# list of integers\n",
        "my_list = [1, 2, 3]"
      ],
      "metadata": {
        "id": "_eZZi5qflDBV"
      },
      "execution_count": null,
      "outputs": []
    },
    {
      "cell_type": "markdown",
      "source": [
        "Una lista puede tener cualquier número de elementos y éstos pueden ser de diferentes tipos (entero, flotante, cadena, etc.)."
      ],
      "metadata": {
        "id": "sr50SM1azbje"
      }
    },
    {
      "cell_type": "code",
      "source": [
        "# empty list\n",
        "my_list = []\n",
        "\n",
        "# list with mixed data types\n",
        "my_list = [1, \"Hello\", 3.4]"
      ],
      "metadata": {
        "id": "p8m4VKi0znTa"
      },
      "execution_count": null,
      "outputs": []
    },
    {
      "cell_type": "markdown",
      "source": [
        "Una lista también puede tener otra lista como elemento. Esto se denomina lista anidada."
      ],
      "metadata": {
        "id": "7X3OqvE3zwSP"
      }
    },
    {
      "cell_type": "code",
      "source": [
        "# nested list\n",
        "my_list = [\"mouse\", [8, 4, 6], ['a']]"
      ],
      "metadata": {
        "id": "SnpsVW9ZzzT2"
      },
      "execution_count": null,
      "outputs": []
    },
    {
      "cell_type": "markdown",
      "source": [
        "# Acceso a los elementos de una lista\n",
        "\n",
        "Existen varias formas de acceder a los elementos de una lista.\n",
        "\n",
        "**Índice de la lista**\n",
        "Podemos utilizar el operador de índice [] para acceder a un elemento de una lista. En Python, los índices comienzan en 0. Así, una lista que tenga 5 elementos tendrá un índice de 0 a 4.\n",
        "\n",
        "Si se intenta acceder a índices distintos de estos, se producirá un IndexError. El índice debe ser un entero. No podemos usar float u otros tipos, esto resultará en TypeError.\n",
        "\n",
        "Las listas anidadas se acceden utilizando la indexación anidada."
      ],
      "metadata": {
        "id": "sdmxr7Ewz_HA"
      }
    },
    {
      "cell_type": "code",
      "source": [
        "my_list = ['p', 'r', 'o', 'b', 'e']\n",
        "\n",
        "# first item\n",
        "print(my_list[0])  # p\n",
        "\n",
        "# third item\n",
        "print(my_list[2])  # o\n",
        "\n",
        "# fifth item\n",
        "print(my_list[4])  # e\n",
        "\n",
        "# Nested List\n",
        "n_list = [\"Happy\", [2, 0, 1, 5]]\n",
        "print(\"\\n\")\n",
        "# Nested indexing\n",
        "print(n_list[0][1])\n",
        "\n",
        "print(n_list[1][1])\n",
        "\n",
        "# Error! Only integer can be used for indexing\n",
        "print(my_list[4.0])"
      ],
      "metadata": {
        "id": "y3srAX6l0O5n",
        "colab": {
          "base_uri": "https://localhost:8080/"
        },
        "outputId": "d7ded215-4bcf-4675-8735-ae0ffed92474"
      },
      "execution_count": null,
      "outputs": [
        {
          "output_type": "stream",
          "name": "stdout",
          "text": [
            "p\n",
            "o\n",
            "e\n",
            "\n",
            "\n",
            "a\n",
            "0\n",
            "e\n"
          ]
        }
      ]
    },
    {
      "cell_type": "markdown",
      "source": [
        "# Indexación negativa\n",
        "Python permite la indexación negativa para sus secuencias. El índice -1 se refiere al último elemento, -2 al penúltimo elemento y así sucesivamente."
      ],
      "metadata": {
        "id": "ajzPv-800SFd"
      }
    },
    {
      "cell_type": "code",
      "source": [
        "# Negative indexing in lists\n",
        "my_list = ['p','r','o','b','e']\n",
        "\n",
        "# last item\n",
        "print(my_list[-1])\n",
        "\n",
        "# fifth last item\n",
        "print(my_list[-5])"
      ],
      "metadata": {
        "id": "Hj3N2Xr90d8y",
        "colab": {
          "base_uri": "https://localhost:8080/"
        },
        "outputId": "4ecd358b-d58a-465e-c14b-4370be5b57a2"
      },
      "execution_count": null,
      "outputs": [
        {
          "output_type": "stream",
          "name": "stdout",
          "text": [
            "e\n",
            "p\n"
          ]
        }
      ]
    },
    {
      "cell_type": "markdown",
      "source": [
        "![image.png](data:image/png;base64,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)"
      ],
      "metadata": {
        "id": "3yd-1aXY0hz4"
      }
    },
    {
      "cell_type": "markdown",
      "source": [
        "# Rebanado de listas en Python\n",
        "Podemos acceder a un rango de elementos de una lista utilizando el operador de corte :."
      ],
      "metadata": {
        "id": "PULlDTdf0vAn"
      }
    },
    {
      "cell_type": "code",
      "source": [
        "# List slicing in Python\n",
        "\n",
        "my_list = ['p','r','o','g','r','a','m','i','z']\n",
        "\n",
        "# elements from index 2 to index 4\n",
        "q=my_list[2:5]  #i:n-1\n",
        "print(q)\n",
        "\n",
        "# elements from index 5 to end\n",
        "print(my_list[5:])\n",
        "\n",
        "# elements beginning to end\n",
        "print(my_list[:])"
      ],
      "metadata": {
        "id": "uCgrQ5_b01JX",
        "colab": {
          "base_uri": "https://localhost:8080/"
        },
        "outputId": "5bf1852d-cd91-4d7a-a425-2a024f54d2fc"
      },
      "execution_count": null,
      "outputs": [
        {
          "output_type": "stream",
          "name": "stdout",
          "text": [
            "['o', 'g', 'r']\n",
            "['a', 'm', 'i', 'z']\n",
            "['p', 'r', 'o', 'g', 'r', 'a', 'm', 'i', 'z']\n"
          ]
        }
      ]
    },
    {
      "cell_type": "markdown",
      "source": [
        "Nota: Cuando cortamos listas, el índice inicial es inclusivo pero el índice final es exclusivo. Por ejemplo, mi_lista[2: 5] devuelve una lista con elementos en los índices 2, 3 y 4, pero no en el 5."
      ],
      "metadata": {
        "id": "KJ_Xq8uz1AFe"
      }
    },
    {
      "cell_type": "markdown",
      "source": [
        "# Añadir/cambiar elementos de la lista\n",
        "Las listas son mutables, lo que significa que sus elementos pueden ser cambiados a diferencia de las cadenas o tuplas.\n",
        "\n",
        "Podemos utilizar el operador de asignación = para cambiar un elemento o un rango de elementos."
      ],
      "metadata": {
        "id": "_BFJyj5L1RIf"
      }
    },
    {
      "cell_type": "code",
      "source": [
        "# Correcting mistake values in a list\n",
        "odd = [2, 4, 6, 8]\n",
        "print(odd)\n",
        "# change the 1st item    \n",
        "odd[0] = 1            \n",
        "\n",
        "print(odd)\n",
        "\n",
        "# change 2nd to 4th items\n",
        "odd[1:4] = [3, 5, 7]  \n",
        "\n",
        "print(odd)  "
      ],
      "metadata": {
        "id": "X2G6sWsA1abo",
        "colab": {
          "base_uri": "https://localhost:8080/"
        },
        "outputId": "b8be5398-5c74-4dfe-d913-d3e2fcca1de7"
      },
      "execution_count": null,
      "outputs": [
        {
          "output_type": "stream",
          "name": "stdout",
          "text": [
            "[2, 4, 6, 8]\n",
            "[1, 4, 6, 8]\n",
            "[1, 3, 5, 7]\n"
          ]
        }
      ]
    },
    {
      "cell_type": "markdown",
      "source": [
        "Podemos añadir un elemento a una lista utilizando el método append() o añadir varios elementos utilizando el método extend()."
      ],
      "metadata": {
        "id": "lfYL5dtF1mBX"
      }
    },
    {
      "cell_type": "code",
      "source": [
        "# Appending and Extending lists in Python\n",
        "odd = [1, 3, 5]\n",
        "\n",
        "odd.append(7)\n",
        "\n",
        "print(odd)\n",
        "\n",
        "odd.extend([9, 11, 13])\n",
        "\n",
        "print(odd)"
      ],
      "metadata": {
        "colab": {
          "base_uri": "https://localhost:8080/"
        },
        "id": "gNrw0eda1jA_",
        "outputId": "974e9026-1be2-4bf5-a766-754d8b488108"
      },
      "execution_count": null,
      "outputs": [
        {
          "output_type": "stream",
          "name": "stdout",
          "text": [
            "[1, 3, 5, 7]\n",
            "[1, 3, 5, 7, 9, 11, 13]\n"
          ]
        }
      ]
    },
    {
      "cell_type": "markdown",
      "source": [
        "También podemos utilizar el operador + para combinar dos listas. Esto también se llama concatenación.\n",
        "\n",
        "El operador * repite una lista el número de veces indicado."
      ],
      "metadata": {
        "id": "Aw-R9vzO1_Vt"
      }
    },
    {
      "cell_type": "code",
      "source": [
        "# Concatenating and repeating lists\n",
        "odd = [1, 3, 5]\n",
        "\n",
        "print(odd + [9, 7, 5])\n",
        "\n",
        "print([\"re\"] * 3)"
      ],
      "metadata": {
        "colab": {
          "base_uri": "https://localhost:8080/"
        },
        "id": "cp3hj8sH2Dht",
        "outputId": "9a58507e-887d-40d1-a8e8-529fa2293ad2"
      },
      "execution_count": null,
      "outputs": [
        {
          "output_type": "stream",
          "name": "stdout",
          "text": [
            "[1, 3, 5, 9, 7, 5]\n",
            "['re', 're', 're']\n"
          ]
        }
      ]
    },
    {
      "cell_type": "code",
      "source": [
        "\n"
      ],
      "metadata": {
        "id": "FynUb4hjHBQ6"
      },
      "execution_count": null,
      "outputs": []
    }
  ]
}