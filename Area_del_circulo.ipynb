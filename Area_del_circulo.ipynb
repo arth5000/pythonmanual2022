{
  "nbformat": 4,
  "nbformat_minor": 0,
  "metadata": {
    "colab": {
      "provenance": [],
      "authorship_tag": "ABX9TyMPd0VMHtGFelyV0npN9K6B",
      "include_colab_link": true
    },
    "kernelspec": {
      "name": "python3",
      "display_name": "Python 3"
    }
  },
  "cells": [
    {
      "cell_type": "markdown",
      "metadata": {
        "id": "view-in-github",
        "colab_type": "text"
      },
      "source": [
        "<a href=\"https://colab.research.google.com/github/arth5000/pythonmanual2022/blob/main/Area_del_circulo.ipynb\" target=\"_parent\"><img src=\"https://colab.research.google.com/assets/colab-badge.svg\" alt=\"Open In Colab\"/></a>"
      ]
    },
    {
      "cell_type": "markdown",
      "metadata": {
        "id": "i_oAnHgOPh1l"
      },
      "source": [
        "\n",
        "\n",
        "```\n",
        "1 Definición de problema \n",
        "2) Analisis( entradas, procesos y salida)\n",
        "3) diseño solución (diagrama y pseudo-codigo)\n",
        "4)codificación\n",
        "```\n",
        "\n",
        "\n"
      ]
    },
    {
      "cell_type": "markdown",
      "metadata": {
        "id": "HHHCTKmDQlfQ"
      },
      "source": [
        "Diseñe y codifique un algoritmo en  python 3.x donde se calcule el area de un circulo, y posteriormente se muestren todas las variables que se usaron para calcular dicha area.\n",
        "\n",
        "\n",
        "\n",
        "```\n",
        "Valores de entrada: Radio\n",
        "Procesos: *  ()\n",
        "Valores de Salida: Área del circulo\n",
        "```\n",
        "\n"
      ]
    },
    {
      "cell_type": "markdown",
      "metadata": {
        "id": "IePLNcY4RFIJ"
      },
      "source": [
        "Pseudocodigo\n",
        "```\n",
        "inicio \n",
        "  pi=3.1416\n",
        "  leer radio(float) \n",
        "  area=(pi*radio*radio)\n",
        "  imprimir area\n",
        "  imprimir radio , pi\n",
        "fin\n",
        "```\n",
        "\n"
      ]
    },
    {
      "cell_type": "code",
      "metadata": {
        "colab": {
          "base_uri": "https://localhost:8080/"
        },
        "id": "K3hPptgUO4yN",
        "outputId": "1eb1e038-9935-4aee-f75d-db5ffbab7565"
      },
      "source": [
        "# Autor: Arturo Valdivia\n",
        "# Codigo 2945343\n",
        "# Programa en python 3 para el calculo del area de un circulo\n",
        "\n",
        "pi=3.1416\n",
        "radio=int(input(\"Escribe el valor del radio> \"))\n",
        "\n",
        "#radio=float(input(\"Escribe el valor del radio> \"))\n",
        "area=pi*radio**2\n",
        "print(\"\\n\")\n",
        "#area=pi*radio*radio\n",
        "print(\"El area es\",area,\"\\n\")\n",
        "print(\"Pi es:\",pi,\"el radio es de:\",radio,\"\\n\")\n",
        "\n",
        "print(\"----Fin del programa---\")\n"
      ],
      "execution_count": null,
      "outputs": [
        {
          "output_type": "stream",
          "text": [
            "Escribe el valor del radio> 3\n",
            "\n",
            "\n",
            "El area es 28.2744 \n",
            "\n",
            "Pi es: 3.1416 el radio es de: 3 \n",
            "\n",
            "----Fin del programa---\n"
          ],
          "name": "stdout"
        }
      ]
    }
  ]
}