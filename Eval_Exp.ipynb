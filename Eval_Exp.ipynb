{
  "nbformat": 4,
  "nbformat_minor": 0,
  "metadata": {
    "colab": {
      "provenance": [],
      "authorship_tag": "ABX9TyMwoA1KA7CBEdg3lDQQ3IoD",
      "include_colab_link": true
    },
    "kernelspec": {
      "name": "python3",
      "display_name": "Python 3"
    },
    "language_info": {
      "name": "python"
    }
  },
  "cells": [
    {
      "cell_type": "markdown",
      "metadata": {
        "id": "view-in-github",
        "colab_type": "text"
      },
      "source": [
        "<a href=\"https://colab.research.google.com/github/arth5000/pythonmanual2022/blob/main/Eval_Exp.ipynb\" target=\"_parent\"><img src=\"https://colab.research.google.com/assets/colab-badge.svg\" alt=\"Open In Colab\"/></a>"
      ]
    },
    {
      "cell_type": "markdown",
      "source": [
        "Evalua la siguiente expresion en python.\n",
        "\n",
        "La función eval() es una de las funciones incorporadas de Python. La palabra 'eval' puede ser considerada como una forma corta de 'evaluación', que es el proceso de encontrar la salida.\n",
        "\n",
        "En este artículo, aprenderás sobre la función eval(), su sintaxis, propiedades y usos con ejemplos. Así que empecemos con la introducción."
      ],
      "metadata": {
        "id": "Klfzn07YMT4_"
      }
    },
    {
      "cell_type": "code",
      "execution_count": null,
      "metadata": {
        "id": "hGDhBIqGMOuI"
      },
      "outputs": [],
      "source": [
        "eval(expression, globals=None, locals=None)"
      ]
    },
    {
      "cell_type": "markdown",
      "source": [
        "https://pythongeeks.org/python-eval-function/\n",
        "\n",
        "La primera expresión es imprescindible, pero las dos siguientes son argumentos por defecto con el valor por defecto Ninguno. La descripción de estos tres parámetros es :\n",
        "\n",
        "1. expresión: Se trata de una cadena que es analizada y evaluada por el intérprete\n",
        "\n",
        "2. globals: Es un diccionario que contiene los métodos y variables globales\n",
        "\n",
        "3. locals: También es un diccionario que contiene los métodos y variables locales\n",
        "\n",
        "Esta función devuelve el resultado al evaluar la expresión de entrada.\n",
        "\n",
        "Veamos algunos ejemplos de uso de la función eval()."
      ],
      "metadata": {
        "id": "BUaoc-1EMZjG"
      }
    },
    {
      "cell_type": "code",
      "source": [
        "#q=3*5\n",
        "eval('3*5')"
      ],
      "metadata": {
        "colab": {
          "base_uri": "https://localhost:8080/"
        },
        "id": "QLec8xRGNQmS",
        "outputId": "6d366186-1d86-469e-9030-8c992e5caaf9"
      },
      "execution_count": null,
      "outputs": [
        {
          "output_type": "execute_result",
          "data": {
            "text/plain": [
              "15"
            ]
          },
          "metadata": {},
          "execution_count": 2
        }
      ]
    },
    {
      "cell_type": "markdown",
      "source": [
        "También podemos dar secuencias y variables como entradas a esta función. Por ejemplo,"
      ],
      "metadata": {
        "id": "SWqs6bUkNiil"
      }
    },
    {
      "cell_type": "code",
      "source": [
        "eval('\"Python\"[0]')\n",
        "n=5\n",
        "eval('n==5')"
      ],
      "metadata": {
        "id": "NvyM44nINj6c",
        "colab": {
          "base_uri": "https://localhost:8080/"
        },
        "outputId": "fd1c2aa8-5c28-4e67-9160-a9250073259c"
      },
      "execution_count": null,
      "outputs": [
        {
          "output_type": "execute_result",
          "data": {
            "text/plain": [
              "True"
            ]
          },
          "metadata": {},
          "execution_count": 3
        }
      ]
    },
    {
      "cell_type": "markdown",
      "source": [
        "No funcionara esto"
      ],
      "metadata": {
        "id": "N1iEbde4NoUA"
      }
    },
    {
      "cell_type": "code",
      "source": [
        "eval('for i in range(5): print(i)')"
      ],
      "metadata": {
        "id": "XlWgAGNYNt23",
        "colab": {
          "base_uri": "https://localhost:8080/",
          "height": 287
        },
        "outputId": "54ad0734-2752-46a7-9f09-01a94af24e43"
      },
      "execution_count": null,
      "outputs": [
        {
          "output_type": "error",
          "ename": "SyntaxError",
          "evalue": "ignored",
          "traceback": [
            "Traceback \u001b[0;36m(most recent call last)\u001b[0m:\n",
            "  File \u001b[1;32m\"/usr/local/lib/python3.7/dist-packages/IPython/core/interactiveshell.py\"\u001b[0m, line \u001b[1;32m3326\u001b[0m, in \u001b[1;35mrun_code\u001b[0m\n    exec(code_obj, self.user_global_ns, self.user_ns)\n",
            "\u001b[0;36m  File \u001b[0;32m\"<ipython-input-4-18e969723587>\"\u001b[0;36m, line \u001b[0;32m1\u001b[0;36m, in \u001b[0;35m<module>\u001b[0;36m\u001b[0m\n\u001b[0;31m    eval('for i in range(5): print(i)')\u001b[0m\n",
            "\u001b[0;36m  File \u001b[0;32m\"<string>\"\u001b[0;36m, line \u001b[0;32m1\u001b[0m\n\u001b[0;31m    for i in range(5): print(i)\u001b[0m\n\u001b[0m      ^\u001b[0m\n\u001b[0;31mSyntaxError\u001b[0m\u001b[0;31m:\u001b[0m invalid syntax\n"
          ]
        }
      ]
    },
    {
      "cell_type": "markdown",
      "source": [
        "Ejemplo 1\n",
        "\n",
        "Enter an expression: `x**2+3*x+6+y`\n",
        "\n",
        "Enter the value of x: 4\n",
        "\n",
        "34"
      ],
      "metadata": {
        "id": "Fw6U6aHFN1V7"
      }
    },
    {
      "cell_type": "code",
      "source": [
        "exp=input('Enter an expression: ')\n",
        "x=int(input('Enter the value of x: '))\n",
        "eval(exp)"
      ],
      "metadata": {
        "id": "oafEpTL6N0UR",
        "colab": {
          "base_uri": "https://localhost:8080/"
        },
        "outputId": "f8e9f527-2bd4-4670-feb0-350f37fc2116"
      },
      "execution_count": null,
      "outputs": [
        {
          "name": "stdout",
          "output_type": "stream",
          "text": [
            "Enter an expression: 2*x+x+6\n",
            "Enter the value of x: 8\n"
          ]
        },
        {
          "output_type": "execute_result",
          "data": {
            "text/plain": [
              "30"
            ]
          },
          "metadata": {},
          "execution_count": 6
        }
      ]
    },
    {
      "cell_type": "markdown",
      "source": [
        "También podemos utilizar la función eval para llamar a una función de elección para hacer más operaciones como se muestra a continuación.\n",
        "\n",
        "Enter either “add” or “sub” or “prod” or “div”: div\n",
        "\n",
        "Enter the first number8\n",
        "\n",
        "Enter the second number2\n",
        "\n",
        "4.0"
      ],
      "metadata": {
        "id": "JQ2mk5tVOAK_"
      }
    },
    {
      "cell_type": "code",
      "source": [
        "def add(a,b):\n",
        "    print(a+b)\n",
        "def sub(a,b):\n",
        "    print(a-b)\n",
        "def prod(a,b):\n",
        "    print(a*b)\n",
        "def div(a,b):\n",
        "    print(a/b)\n",
        "op=input('Enter either \"add\" or \"sub\" or \"prod\" or \"div\": ')\n",
        "\n",
        "if(op in 'add sub prod div'):\n",
        "    a=input('Enter the first number')\n",
        "    b=input('Enter the second number')\n",
        "    fun=op+'('+a+','+b+')'\n",
        "    print(fun)\n",
        "    eval(fun)\n",
        "else:\n",
        "    print('Please enter valid input')"
      ],
      "metadata": {
        "id": "qFmEf-KJOBKg",
        "colab": {
          "base_uri": "https://localhost:8080/"
        },
        "outputId": "2b2ad8d7-df6e-4955-a897-d1c123261605"
      },
      "execution_count": null,
      "outputs": [
        {
          "output_type": "stream",
          "name": "stdout",
          "text": [
            "Enter either \"add\" or \"sub\" or \"prod\" or \"div\": prod\n",
            "Enter the first number2\n",
            "Enter the second number3\n",
            "prod(2,3)\n",
            "6\n"
          ]
        }
      ]
    },
    {
      "cell_type": "markdown",
      "source": [
        "Vulnerabilidades en la función eval() de Python\n",
        "La propiedad de la función eval() de ejecutar cualquier cosa que le pasemos también es un problema para nosotros. Esto se debe a que utilizando esta función un usuario podría acceder a datos confidenciales o podría llamar a una función peligrosa.\n",
        "\n",
        "1. Problema de explotación con la función eval()\n",
        "Supongamos que tenemos una función que contiene una contraseña. Si el usuario introduce una entrada que llame a esta función, podrá ver esta contraseña. Este caso se muestra en el siguiente código.\n",
        "\n",
        "Enter an expression: get_pass()\n",
        "\n",
        "‘python@123’"
      ],
      "metadata": {
        "id": "K4L6J5cVP6zK"
      }
    },
    {
      "cell_type": "code",
      "source": [
        "def get_pass():\n",
        "    password='python@123'\n",
        "    return password\n",
        "exp=input('Enter an expression: ')\n",
        "eval(exp)"
      ],
      "metadata": {
        "id": "mzDPk8EcP2Up",
        "colab": {
          "base_uri": "https://localhost:8080/",
          "height": 52
        },
        "outputId": "3aba0625-d6c7-452a-b96f-ce5a38f1ca68"
      },
      "execution_count": null,
      "outputs": [
        {
          "name": "stdout",
          "output_type": "stream",
          "text": [
            "Enter an expression: get_pass()\n"
          ]
        },
        {
          "output_type": "execute_result",
          "data": {
            "text/plain": [
              "'python@123'"
            ],
            "application/vnd.google.colaboratory.intrinsic+json": {
              "type": "string"
            }
          },
          "metadata": {},
          "execution_count": 8
        }
      ]
    },
    {
      "cell_type": "markdown",
      "source": [
        "Podemos ver que con sólo llamar a una función, se podría acceder a la contraseña.\n",
        "\n",
        "Además, tomemos el ejemplo del módulo os que se quiere importar en el dispositivo. Sabemos que los sistemas operativos proporcionan la opción de lectura-escritura de archivos. Y estas restricciones se aplican a cada función\n",
        "\n",
        "En casos como los programas de escritorio, el usuario no tiene ningún problema. Pero considere el caso de las aplicaciones web y los ordenadores de quiosco, existe la posibilidad de explotación utilizando esta función.\n",
        "\n",
        "¿Se pregunta cómo resolver este problema? Lo discutiremos en la siguiente subsección."
      ],
      "metadata": {
        "id": "ge4juiQvQEEY"
      }
    },
    {
      "cell_type": "markdown",
      "source": [
        "2. Resolver el problema de la explotación\n",
        "Podemos resolver este problema de seguridad utilizando diccionarios seguros. Podemos crear un diccionario seguro que contenga sólo la x como valor correspondiente a la clave 'x'. Este diccionario se da como el segundo parámetro de la función eval() para que sólo x sea identificada como una variable global mientras se evalúa.\n",
        "\n",
        "Esto evitará que la función eval() acceda a la función get_pass() ya que no la tiene como variable global a la que llamar. Y esto hace que la contraseña o cualquier otro dato confidencial sea seguro.\n",
        "\n",
        "Este ejemplo se muestra en el siguiente código.\n",
        "\n",
        "Enter an expression: x**3+3*x+9\n",
        "Enter the value of x: 345"
      ],
      "metadata": {
        "id": "6-mbrAPOQNwj"
      }
    },
    {
      "cell_type": "code",
      "source": [
        "def get_pass():\n",
        "    password='python@123'\n",
        "    return password\n",
        "exp=input('Enter an expression: ')\n",
        "x=int(input(\"Enter the value of x: \"))\n",
        "safe_dic={}\n",
        "safe_dic['x']=x\n",
        "eval(exp,safe_dic)"
      ],
      "metadata": {
        "id": "JjaNNKhLQRZO"
      },
      "execution_count": null,
      "outputs": []
    },
    {
      "cell_type": "markdown",
      "source": [
        "Podemos ver que funciona bien. Ahora vamos a intentar acceder a la función get_pass()."
      ],
      "metadata": {
        "id": "BWC_EIO8QY5k"
      }
    },
    {
      "cell_type": "code",
      "source": [
        "def get_pass():\n",
        "    password='python@123'\n",
        "    return password\n",
        "exp=input('Enter an expression: ')\n",
        "x=int(input(\"Enter the value of x: \"))\n",
        "safe_dic={}\n",
        "safe_dic['x']=x\n",
        "eval(exp,safe_dic)"
      ],
      "metadata": {
        "id": "_f4pzeKrQdcu",
        "colab": {
          "base_uri": "https://localhost:8080/",
          "height": 270
        },
        "outputId": "649cb737-422d-4005-9df3-d88365425805"
      },
      "execution_count": null,
      "outputs": [
        {
          "name": "stdout",
          "output_type": "stream",
          "text": [
            "Enter an expression: get_pass()\n",
            "Enter the value of x: 4\n"
          ]
        },
        {
          "output_type": "error",
          "ename": "NameError",
          "evalue": "ignored",
          "traceback": [
            "\u001b[0;31m---------------------------------------------------------------------------\u001b[0m",
            "\u001b[0;31mNameError\u001b[0m                                 Traceback (most recent call last)",
            "\u001b[0;32m<ipython-input-10-749180e9afad>\u001b[0m in \u001b[0;36m<module>\u001b[0;34m\u001b[0m\n\u001b[1;32m      6\u001b[0m \u001b[0msafe_dic\u001b[0m\u001b[0;34m=\u001b[0m\u001b[0;34m{\u001b[0m\u001b[0;34m}\u001b[0m\u001b[0;34m\u001b[0m\u001b[0;34m\u001b[0m\u001b[0m\n\u001b[1;32m      7\u001b[0m \u001b[0msafe_dic\u001b[0m\u001b[0;34m[\u001b[0m\u001b[0;34m'x'\u001b[0m\u001b[0;34m]\u001b[0m\u001b[0;34m=\u001b[0m\u001b[0mx\u001b[0m\u001b[0;34m\u001b[0m\u001b[0;34m\u001b[0m\u001b[0m\n\u001b[0;32m----> 8\u001b[0;31m \u001b[0meval\u001b[0m\u001b[0;34m(\u001b[0m\u001b[0mexp\u001b[0m\u001b[0;34m,\u001b[0m\u001b[0msafe_dic\u001b[0m\u001b[0;34m)\u001b[0m\u001b[0;34m\u001b[0m\u001b[0;34m\u001b[0m\u001b[0m\n\u001b[0m",
            "\u001b[0;32m<string>\u001b[0m in \u001b[0;36m<module>\u001b[0;34m\u001b[0m\n",
            "\u001b[0;31mNameError\u001b[0m: name 'get_pass' is not defined"
          ]
        }
      ]
    },
    {
      "cell_type": "markdown",
      "source": [
        "![image.png](data:image/png;base64,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)"
      ],
      "metadata": {
        "id": "O3SbPWyEQk-M"
      }
    },
    {
      "cell_type": "markdown",
      "source": [
        "We got a NameError because the get_passwords is not in the locals of the eval() function. So, we could prevent the problem of security."
      ],
      "metadata": {
        "id": "RedajJB9QeKR"
      }
    },
    {
      "cell_type": "code",
      "source": [
        "### Construir un programa repetitivo  para que el usuario introduzca \n",
        "## la expresion matematica cuadratica (EJEMPLO: x**2+3*x+6) que desee evaluar \n",
        "# y a su vez tambien los valores \n",
        "###  correspondientes que seran evaluados\n",
        "### solo detener cuando la cadena \"null\" pare la ejecución.\n",
        "\n",
        "exp=input('Enter an expression: ') #null para parar.\n",
        "x=int(input('Enter the value of x: '))\n",
        "eval(exp)"
      ],
      "metadata": {
        "id": "W5l_5JTpbDct"
      },
      "execution_count": null,
      "outputs": []
    },
    {
      "cell_type": "code",
      "source": [
        "li=[]\n",
        "print(\"\")\n",
        "exp=input('Enter an expression: ') \n",
        "n=int(input(\"Cuantos valores son necesarios leer\"))\n",
        "for z in range(n):\n",
        "  v=int(input(\"valor no.\",z+1))\n",
        "  li.append()\n",
        "\n",
        "\n",
        "x=int(input('Enter the value of x: '))\n",
        "eval(exp)"
      ],
      "metadata": {
        "id": "zZM4769FXKqG"
      },
      "execution_count": null,
      "outputs": []
    },
    {
      "cell_type": "code",
      "source": [
        "cad=\"x**2+3*x+6+y\"\n",
        "for q in cad:\n",
        "  print(q)\n",
        "  print(q.isalpha())"
      ],
      "metadata": {
        "colab": {
          "base_uri": "https://localhost:8080/"
        },
        "id": "Oq7Mw_obYCY9",
        "outputId": "fea1c07d-bed7-434e-c973-48fc0f127ab0"
      },
      "execution_count": null,
      "outputs": [
        {
          "output_type": "stream",
          "name": "stdout",
          "text": [
            "x\n",
            "True\n",
            "*\n",
            "False\n",
            "*\n",
            "False\n",
            "2\n",
            "False\n",
            "+\n",
            "False\n",
            "3\n",
            "False\n",
            "*\n",
            "False\n",
            "x\n",
            "True\n",
            "+\n",
            "False\n",
            "6\n",
            "False\n",
            "+\n",
            "False\n",
            "y\n",
            "True\n"
          ]
        }
      ]
    },
    {
      "cell_type": "code",
      "source": [
        "li=[]\n",
        "val=[]\n",
        "c=0\n",
        "exp=input('Enter an expression: ') \n",
        "for q in exp:  \n",
        "  if q.isalpha() ==True:\n",
        "    print(q)\n",
        "    li.append(q)\n",
        "    c+=1\n",
        "print(li)\n",
        "for z in li:\n",
        "  print(type(z))\n",
        "  valor=input('Enter value ')\n",
        "  ccad=z+\"=\"+valor\n",
        "  print(ccad)\n",
        "  exec(  ccad)  \n",
        "\n",
        "eval(exp)"
      ],
      "metadata": {
        "colab": {
          "base_uri": "https://localhost:8080/"
        },
        "id": "8UoyCfbJY4Id",
        "outputId": "54aac126-a2e3-4868-b9ee-160e8a405107"
      },
      "execution_count": null,
      "outputs": [
        {
          "output_type": "stream",
          "name": "stdout",
          "text": [
            "Enter an expression: x+1\n",
            "x\n",
            "['x']\n",
            "<class 'str'>\n",
            "Enter value 1\n",
            "x=1\n"
          ]
        },
        {
          "output_type": "execute_result",
          "data": {
            "text/plain": [
              "2"
            ]
          },
          "metadata": {},
          "execution_count": 17
        }
      ]
    }
  ]
}