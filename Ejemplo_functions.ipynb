{
  "nbformat": 4,
  "nbformat_minor": 0,
  "metadata": {
    "colab": {
      "provenance": [],
      "authorship_tag": "ABX9TyNveYLnCIYbkDOMxClQPWxR",
      "include_colab_link": true
    },
    "kernelspec": {
      "name": "python3",
      "display_name": "Python 3"
    },
    "language_info": {
      "name": "python"
    }
  },
  "cells": [
    {
      "cell_type": "markdown",
      "metadata": {
        "id": "view-in-github",
        "colab_type": "text"
      },
      "source": [
        "<a href=\"https://colab.research.google.com/github/arth5000/pythonmanual2022/blob/main/Ejemplo_functions.ipynb\" target=\"_parent\"><img src=\"https://colab.research.google.com/assets/colab-badge.svg\" alt=\"Open In Colab\"/></a>"
      ]
    },
    {
      "cell_type": "code",
      "metadata": {
        "id": "VEqRfFCF4i94"
      },
      "source": [
        "#inciso C\n",
        "def iva(l):\n",
        "  s=sum(l)\n",
        "  return s*0.15\n",
        "\n",
        "def info():\n",
        "  print(\"En este programa se realizan las siguientes funciones:\\n\")\n",
        "  print(\"A) Area de un triangulo\")\n",
        "  print(\"B) Calculo de la hipotenusa\")\n",
        "  print(\"C) Calculo del Iva de una lista de valores\")\n",
        "  print(\"D) Salir\")\n",
        "  print(\"Programa de : Arturo Valdivia G. Código 2945341\")\n",
        "\n",
        "#main\n",
        "info()\n",
        "\n",
        "flag=1\n",
        "while flag==1:\n",
        "  opc=str(input(\"Escribe la opcion deseada> \"))\n",
        "  if opc==\"A\":\n",
        "    pass\n",
        "  elif opc==\"B\":\n",
        "    pass \n",
        "  elif opc==\"C\":\n",
        "    n=int(input(\"Cuanto elementos en la lista? \"))\n",
        "    lvals=[]\n",
        "    for k in range(n):\n",
        "      precio=float(input(\"Escribe el valor\"))\n",
        "      print(\"numero \",k+1)\n",
        "      lvals.append(precio)\n",
        "    ivax=iva(lvals)\n",
        "    print(lvals,\"\\n\")\n",
        "    print(\"el iva de la lista es: \",ivax)\n",
        "      \n",
        "  elif opc==\"D\":\n",
        "    flag=0\n",
        "    \n",
        "print(\"Saliendo del programa principal\")"
      ],
      "execution_count": null,
      "outputs": []
    }
  ]
}