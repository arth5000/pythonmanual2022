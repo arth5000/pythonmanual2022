{
  "nbformat": 4,
  "nbformat_minor": 0,
  "metadata": {
    "colab": {
      "provenance": [],
      "include_colab_link": true
    },
    "kernelspec": {
      "name": "python3",
      "display_name": "Python 3"
    },
    "language_info": {
      "name": "python"
    }
  },
  "cells": [
    {
      "cell_type": "markdown",
      "metadata": {
        "id": "view-in-github",
        "colab_type": "text"
      },
      "source": [
        "<a href=\"https://colab.research.google.com/github/arth5000/pythonmanual2022/blob/main/Archivos.ipynb\" target=\"_parent\"><img src=\"https://colab.research.google.com/assets/colab-badge.svg\" alt=\"Open In Colab\"/></a>"
      ]
    },
    {
      "cell_type": "code",
      "execution_count": null,
      "metadata": {
        "colab": {
          "base_uri": "https://localhost:8080/"
        },
        "id": "9Qk_3Y7Ay1iU",
        "outputId": "a6834624-c72f-464b-9d9e-546f80546dab"
      },
      "outputs": [
        {
          "output_type": "stream",
          "name": "stdout",
          "text": [
            "11\n",
            "\n",
            "12\n",
            "\n",
            "13\n",
            "\n",
            "14\n",
            "\n",
            "15\n",
            "\n",
            "16\n",
            "\n",
            "17\n",
            "\n",
            "18\n",
            "\n"
          ]
        }
      ],
      "source": [
        "# manejador=(nombre.txt, modo)\n",
        "# read write append r w a\n",
        "\n",
        "file=open('NUmeros.txt','r')\n",
        "\n",
        "for line in file:\n",
        "  print(line)\n",
        "\n",
        "file.close()"
      ]
    },
    {
      "cell_type": "code",
      "source": [
        "file=open(\"NUmeros.txt\",\"a\")\n",
        "msg=str(input('Escribe nva. NUmeros'))\n",
        "file.write(\"\\n\"+msg)\n",
        "file.close()"
      ],
      "metadata": {
        "colab": {
          "base_uri": "https://localhost:8080/"
        },
        "id": "hSoPLMtDHO89",
        "outputId": "53963623-f699-49f6-f3b1-f0199caf455e"
      },
      "execution_count": null,
      "outputs": [
        {
          "name": "stdout",
          "output_type": "stream",
          "text": [
            "Escribe nva. NUmeros100\n"
          ]
        }
      ]
    },
    {
      "cell_type": "code",
      "source": [
        "file=open('Escalera Num.txt','r')\n",
        "c=0\n",
        "for line in file:\n",
        "  c+1\n",
        "  l=len(line)\n",
        "  print(\"+\",line,\"*linea num.=\",c,\"longitud de linea\",l)\n",
        "file.close()"
      ],
      "metadata": {
        "colab": {
          "base_uri": "https://localhost:8080/"
        },
        "id": "GTeWL_hPx3Ag",
        "outputId": "df233959-ef3f-4e1e-ac3a-36c3e2f188e5"
      },
      "execution_count": null,
      "outputs": [
        {
          "output_type": "stream",
          "name": "stdout",
          "text": [
            "+ 333\n",
            " *linea num.= 0 longitud de linea 4\n",
            "+ 22\n",
            " *linea num.= 0 longitud de linea 3\n",
            "+ 1\n",
            " *linea num.= 0 longitud de linea 2\n",
            "+ \n",
            " *linea num.= 0 longitud de linea 1\n"
          ]
        }
      ]
    },
    {
      "cell_type": "code",
      "source": [
        "file=open(\"newfile.txt\",\"w\")\n",
        "msg=str(input('Escribe algo'))\n",
        "var=str(input('Escribe algo de nuevo'))\n",
        "\n",
        "file.write(\"Hello world in the new file\\n\")\n",
        "\n",
        "file.write(msg+\"\\n\")\n",
        "file.write(var+\"\\n\")\n",
        "file.close()\n"
      ],
      "metadata": {
        "colab": {
          "base_uri": "https://localhost:8080/"
        },
        "id": "fjVujxS6zRCG",
        "outputId": "5cff85b0-9b1d-4299-8ba2-bfacc4947c2d"
      },
      "execution_count": null,
      "outputs": [
        {
          "name": "stdout",
          "output_type": "stream",
          "text": [
            "Escribe algoh\n",
            "Escribe algo de nuevoh\n"
          ]
        }
      ]
    },
    {
      "cell_type": "code",
      "source": [
        "file=open('NUmeros.txt','r')\n",
        "c=0\n",
        "acum=0.0\n",
        "\n",
        "for l in file:\n",
        "  line=l[:-1]#elimino el \\n de cada linea para dejar el numero.\n",
        "  #print line \n",
        "  if line.isdigit()==True:\n",
        "    num=float(line)\n",
        "    acum=acum+num \n",
        "  #print acum\n",
        "  else:\n",
        "    print(\"no\")\n",
        "    c+=1\n",
        "\n",
        "file.close()\n",
        "print(\"sumatoria\",acum)\n"
      ],
      "metadata": {
        "colab": {
          "base_uri": "https://localhost:8080/"
        },
        "id": "L0YF9feE0Yy7",
        "outputId": "84f81971-cef7-4a92-cfde-bfe40e8417bd"
      },
      "execution_count": null,
      "outputs": [
        {
          "output_type": "stream",
          "name": "stdout",
          "text": [
            "no\n",
            "sumatoria 126.0\n"
          ]
        }
      ]
    }
  ]
}