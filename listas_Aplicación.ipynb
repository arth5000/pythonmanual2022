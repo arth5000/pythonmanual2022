{
  "nbformat": 4,
  "nbformat_minor": 0,
  "metadata": {
    "colab": {
      "provenance": [],
      "authorship_tag": "ABX9TyNdrPNPPAfp//ZdUYE73qgp",
      "include_colab_link": true
    },
    "kernelspec": {
      "name": "python3",
      "display_name": "Python 3"
    },
    "language_info": {
      "name": "python"
    }
  },
  "cells": [
    {
      "cell_type": "markdown",
      "metadata": {
        "id": "view-in-github",
        "colab_type": "text"
      },
      "source": [
        "<a href=\"https://colab.research.google.com/github/arth5000/pythonmanual2022/blob/main/listas_Aplicaci%C3%B3n.ipynb\" target=\"_parent\"><img src=\"https://colab.research.google.com/assets/colab-badge.svg\" alt=\"Open In Colab\"/></a>"
      ]
    },
    {
      "cell_type": "markdown",
      "metadata": {
        "id": "qmzLhBDIRcza"
      },
      "source": [
        "Capture en una lista la lista de los alumnos de un salón de clase."
      ]
    },
    {
      "cell_type": "code",
      "metadata": {
        "id": "VU_tvIZIRY6N"
      },
      "source": [
        "# no de alumnos para aparta variables\n",
        "n1=\"arturo Valdivia g.\"\n",
        "n2=\"Alan de la torre\"\n",
        "n3..\n",
        "..\n",
        "n30=\"Noe\"\n"
      ],
      "execution_count": null,
      "outputs": []
    },
    {
      "cell_type": "markdown",
      "metadata": {
        "id": "K-U8y8VRVGde"
      },
      "source": [
        "Diseñe y codifique en Python 3x un algoritmo que capture en una lista  de los alumnos de un salón de clase con 30 alumnos."
      ]
    },
    {
      "cell_type": "code",
      "metadata": {
        "colab": {
          "base_uri": "https://localhost:8080/"
        },
        "id": "FG9lHMG3VTus",
        "outputId": "30ffc4cc-1e63-4cd8-ce5a-311670f48fef"
      },
      "source": [
        "lista=[] #lista vacia\n",
        "c=0 # contador\n",
        "while c<3:\n",
        "  print(\"No de alumno\",c+1,\"\\n\")\n",
        "  nombre=str(input(\"escribe tu nombre\"))\n",
        "  lista.append(nombre)\n",
        "  c=c+1\n",
        "\n",
        "print(lista)"
      ],
      "execution_count": null,
      "outputs": [
        {
          "output_type": "stream",
          "text": [
            "No de alumno 1 \n",
            "\n",
            "escribe tu nombreArturo Valdivia G.\n",
            "No de alumno 2 \n",
            "\n",
            "escribe tu nombreMaria glez. \n",
            "No de alumno 3 \n",
            "\n",
            "escribe tu nombreErnesto Gamez\n",
            "['Arturo Valdivia G.', 'Maria glez. ', 'Ernesto Gamez']\n"
          ],
          "name": "stdout"
        }
      ]
    },
    {
      "cell_type": "code",
      "metadata": {
        "colab": {
          "base_uri": "https://localhost:8080/"
        },
        "id": "BuVa9CSFXLYg",
        "outputId": "7c88656f-7439-4f49-9e56-c792d00d5093"
      },
      "source": [
        "clista=[] #lista vacia\n",
        "c=0 # contador\n",
        "while c<3:\n",
        "  print(\"No de alumno\",c+1,\"\\n\")\n",
        "  codigo=str(input(\"escribe tu codigo de alumno\"))\n",
        "  clista.append(codigo)\n",
        "  c=c+1\n",
        "\n",
        "print(clista)"
      ],
      "execution_count": null,
      "outputs": [
        {
          "output_type": "stream",
          "text": [
            "No de alumno 1 \n",
            "\n",
            "escribe tu codigo de alumno2945786\n",
            "No de alumno 2 \n",
            "\n",
            "escribe tu codigo de alumno2587413\n",
            "No de alumno 3 \n",
            "\n",
            "escribe tu codigo de alumno9074513\n",
            "['2945786', '2587413', '9074513']\n"
          ],
          "name": "stdout"
        }
      ]
    },
    {
      "cell_type": "code",
      "metadata": {
        "colab": {
          "base_uri": "https://localhost:8080/"
        },
        "id": "KWeAHliwXn9o",
        "outputId": "00bf83df-15f5-4dee-8a11-0e902a7c32af"
      },
      "source": [
        "lista=[] #lista vacia\n",
        "clista=[] #lista vacia\n",
        "c=0 # contador\n",
        "alumnos=int(input(\"escribe cuantos alumnos deseas capturar alumno ? >>\"))\n",
        "\n",
        "while c<alumnos:\n",
        "  print(\"No de alumno\",c+1,\"\\n\")\n",
        "  nombre=str(input(\"escribe tu nombre\"))\n",
        "  codigo=int(input(\"escribe tu codigo de alumno\"))#codigo=str(input(\"escribe tu codigo de alumno\"))\n",
        "\n",
        "  lista.append(nombre)  \n",
        "  clista.append(codigo)\n",
        "\n",
        "  c=c+1\n",
        "\n",
        "print(lista)\n",
        "print(\"\\n\")\n",
        "print(clista)"
      ],
      "execution_count": null,
      "outputs": [
        {
          "output_type": "stream",
          "text": [
            "escribe cuantos alumnos deseas capturar alumno ? >>2\n",
            "No de alumno 1 \n",
            "\n",
            "escribe tu nombrearturo\n",
            "escribe tu codigo de alumno124578\n",
            "No de alumno 2 \n",
            "\n",
            "escribe tu nombrealana\n",
            "escribe tu codigo de alumno235689\n",
            "['arturo', 'alana']\n",
            "\n",
            "\n",
            "[124578, 235689]\n"
          ],
          "name": "stdout"
        }
      ]
    },
    {
      "cell_type": "code",
      "metadata": {
        "id": "n4R2rlvsYwyE"
      },
      "source": [
        "lista=[] #lista vacia\n",
        "clista=[] #lista vacia\n",
        "c=0 # contador\n",
        "alumnos=int(input(\"escribe cuantos alumnos deseas capturar alumno ? >>\"))\n",
        "\n",
        "while c<alumnos:\n",
        "  print(\"No de alumno\",c+1,\"\\n\")\n",
        "  nombre=str(input(\"escribe tu nombre\"))\n",
        "  codigo=int(input(\"escribe tu codigo de alumno\"))#codigo=str(input(\"escribe tu codigo de alumno\"))\n",
        "\n",
        "  lista.append(nombre)  \n",
        "  clista.append(codigo)\n",
        "\n",
        "  c=c+1\n",
        "\n",
        "print(lista)\n",
        "print(\"\\n\")\n",
        "print(clista)"
      ],
      "execution_count": null,
      "outputs": []
    },
    {
      "cell_type": "markdown",
      "metadata": {
        "id": "ECa-eFsnY6ds"
      },
      "source": [
        "Impresión de datos mas funcional"
      ]
    },
    {
      "cell_type": "code",
      "metadata": {
        "colab": {
          "base_uri": "https://localhost:8080/"
        },
        "id": "jHu4IbNKY4wj",
        "outputId": "ed4ad538-6dfe-40c4-dffe-54591dbf4444"
      },
      "source": [
        "lista=[] #lista vacia\n",
        "clista=[] #lista vacia\n",
        "c=0 # contador\n",
        "alumnos=int(input(\"escribe cuantos alumnos deseas capturar alumno ? >>\"))\n",
        "\n",
        "while c<alumnos:\n",
        "  print(\"No de alumno\",c+1,\"\\n\")\n",
        "  nombre=str(input(\"escribe tu nombre\"))\n",
        "  codigo=int(input(\"escribe tu codigo de alumno\"))#codigo=str(input(\"escribe tu codigo de alumno\"))\n",
        "\n",
        "  lista.append(nombre)  \n",
        "  clista.append(codigo)\n",
        "\n",
        "  c=c+1\n",
        "c=0\n",
        "while c<alumnos:\n",
        "  print(\"Nombre. \",lista[c], \"Codigo: \",clista[c])\n",
        "  c=c+1\n",
        "\n"
      ],
      "execution_count": null,
      "outputs": [
        {
          "output_type": "stream",
          "text": [
            "escribe cuantos alumnos deseas capturar alumno ? >>2\n",
            "No de alumno 1 \n",
            "\n",
            "escribe tu nombrearturo\n",
            "escribe tu codigo de alumno123456\n",
            "No de alumno 2 \n",
            "\n",
            "escribe tu nombrealana\n",
            "escribe tu codigo de alumno784512\n",
            "Nombre.  arturo Codigo:  123456\n",
            "Nombre.  alana Codigo:  784512\n"
          ],
          "name": "stdout"
        }
      ]
    },
    {
      "cell_type": "code",
      "metadata": {
        "colab": {
          "base_uri": "https://localhost:8080/"
        },
        "id": "lXcQrB1WbOeG",
        "outputId": "212e76cd-5e2e-4b85-b2d7-822bd76fb1a6"
      },
      "source": [
        "lista=[] #lista vacia\n",
        "clista=[] #lista vacia\n",
        "\n",
        "c=0 # contador\n",
        "alumnos=int(input(\"escribe cuantos alumnos deseas capturar alumno ? >>\"))\n",
        "\n",
        "while c<alumnos:\n",
        "  print(\"No de alumno\",c+1,\"\\n\")\n",
        "  nombre=str(input(\"escribe tu nombre\"))\n",
        "  codigo=int(input(\"escribe tu codigo de alumno\"))#codigo=str(input(\"escribe tu codigo de alumno\"))\n",
        "\n",
        "  lista.append(nombre)  \n",
        "  clista.append(codigo)\n",
        "\n",
        "  c=c+1\n",
        "\n",
        "db=[lista,clista]\n",
        "c=0\n",
        "\n",
        "while c<alumnos:\n",
        "  print(\"Nombre. \",db[0][c], \"Codigo: \",db[1][c])\n",
        "  c=c+1"
      ],
      "execution_count": null,
      "outputs": [
        {
          "output_type": "stream",
          "text": [
            "escribe cuantos alumnos deseas capturar alumno ? >>2\n",
            "No de alumno 1 \n",
            "\n",
            "escribe tu nombreart\n",
            "escribe tu codigo de alumno12\n",
            "No de alumno 2 \n",
            "\n",
            "escribe tu nombrealana\n",
            "escribe tu codigo de alumno78\n",
            "Nombre.  art Codigo:  12\n",
            "Nombre.  alana Codigo:  78\n"
          ],
          "name": "stdout"
        }
      ]
    }
  ]
}