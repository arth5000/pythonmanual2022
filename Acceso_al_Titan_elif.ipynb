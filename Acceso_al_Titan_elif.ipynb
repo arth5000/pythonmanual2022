{
  "nbformat": 4,
  "nbformat_minor": 0,
  "metadata": {
    "colab": {
      "provenance": [],
      "authorship_tag": "ABX9TyP2RTLS7cAzgBmiobx7S2SU",
      "include_colab_link": true
    },
    "kernelspec": {
      "name": "python3",
      "display_name": "Python 3"
    },
    "language_info": {
      "name": "python"
    }
  },
  "cells": [
    {
      "cell_type": "markdown",
      "metadata": {
        "id": "view-in-github",
        "colab_type": "text"
      },
      "source": [
        "<a href=\"https://colab.research.google.com/github/arth5000/pythonmanual2022/blob/main/Acceso_al_Titan_elif.ipynb\" target=\"_parent\"><img src=\"https://colab.research.google.com/assets/colab-badge.svg\" alt=\"Open In Colab\"/></a>"
      ]
    },
    {
      "cell_type": "markdown",
      "metadata": {
        "id": "1zCGQvmmAJAM"
      },
      "source": [
        "Diseñe y codifique un algoritmo en python 3.x  para primeramente filtrar a un usuario de un juego mecanico. Si mide mas de 120cm puede subir al juego. Adicionalmente se cobrara a partir de los siguiente criterios:\n",
        "\n",
        "\n",
        "```\n",
        "\n",
        "Si es menor de 12 años se le cobrara $5.\n",
        "Si es mayor de 12  y menor de 18 años se le cobrara $7.\n",
        "Si es mayor de 18 años se le cobrara 12.\n",
        "```\n",
        "\n"
      ]
    },
    {
      "cell_type": "code",
      "metadata": {
        "colab": {
          "base_uri": "https://localhost:8080/"
        },
        "id": "vZRy7f0P_7Js",
        "outputId": "47520ad8-5e84-46cd-da9f-f4eb8a7dd455"
      },
      "source": [
        "altura=float(input(\"Cual es tu altura en cm??\"))\n",
        "if altura >120:\n",
        "  print(\"Bienvenid@ al Titan\")\n",
        "  edad=int(input(\"Cual es tu edad??\"))\n",
        "  if edad <=12 and edad >=0:\n",
        "    print(\"Tu pago es de $5 \")\n",
        "  if edad >12 and edad <=18:\n",
        "    print(\"Tu pago es de $7 \")\n",
        "  if edad >18:\n",
        "    print(\"tu pago es de $12\")\n",
        "\n",
        "else:\n",
        "  print(\"Vete a la rueda de la fortuna\")\n",
        "\n"
      ],
      "execution_count": null,
      "outputs": [
        {
          "output_type": "stream",
          "text": [
            "Cual es tu altura en cm??123\n",
            "Bienvenid@ al Titan\n",
            "Cual es tu edad??29\n",
            "tu pago es de $12\n"
          ],
          "name": "stdout"
        }
      ]
    },
    {
      "cell_type": "code",
      "metadata": {
        "id": "zDInr-D0C5sW"
      },
      "source": [],
      "execution_count": null,
      "outputs": []
    },
    {
      "cell_type": "markdown",
      "metadata": {
        "id": "NczYiWE3DGqx"
      },
      "source": [
        "Elif es una estructura abreviada de IF-ELSE donde se pueden evaluar varias condiciones."
      ]
    },
    {
      "cell_type": "code",
      "metadata": {
        "colab": {
          "base_uri": "https://localhost:8080/"
        },
        "id": "pScgA5v8C6P0",
        "outputId": "0b8cfdb2-eb8f-4c9e-eafd-3200ee6b3014"
      },
      "source": [
        "#Version 2 con elif\n",
        "altura=float(input(\"Cual es tu altura en cm??\"))\n",
        "if altura >120:\n",
        "  print(\"Bienvenid@ al Titan\")\n",
        "  edad=int(input(\"Cual es tu edad??\"))\n",
        "  if edad <=12 and edad >=0:\n",
        "    print(\"Tu pago es de $5 \")\n",
        "  elif edad >12 and edad <=18:\n",
        "    print(\"Tu pago es de $7 \")\n",
        "  elif edad >18:\n",
        "    print(\"tu pago es de $12\")\n",
        "\n",
        "else:\n",
        "  print(\"Vete a la rueda de la fortuna\")\n",
        "\n"
      ],
      "execution_count": null,
      "outputs": [
        {
          "output_type": "stream",
          "text": [
            "Cual es tu altura en cm??127\n",
            "Bienvenid@ al Titan\n",
            "Cual es tu edad??23\n",
            "tu pago es de $12\n"
          ],
          "name": "stdout"
        }
      ]
    },
    {
      "cell_type": "markdown",
      "metadata": {
        "id": "QE_49dcrDax-"
      },
      "source": [
        "Diseñe y codifique un menu para 3 programas en python 3.x. Donde la opción A se haga el programa de conversión de cm a mtros.\n",
        "\n",
        "La opción B realizara un programa para el calculo del área de un triángulo.\n",
        "\n",
        "La opción C convertira onzas a mililitros.\n",
        "\n"
      ]
    },
    {
      "cell_type": "code",
      "metadata": {
        "colab": {
          "base_uri": "https://localhost:8080/"
        },
        "id": "vM_P81HrEKSL",
        "outputId": "dbdfc06a-a6e1-41f6-a577-28d1d077a8ef"
      },
      "source": [
        "print(\"Programa que realiza 3 diferentes programas:\\n\")\n",
        "print(\"A el programa de converion de cm a mtros.\\n B realizara un programa para el calculo del área de un triángulo \\n C convertira onzas a mililitros.\")\n",
        "opc=str(input(\"Que programa eliges, A, B,C ?\"))\n",
        "\n",
        "if opc==\"a\":\n",
        "  cm=float(input(\"Escribe los cms\"))\n",
        "  print(\"La conversión\",cm/100)\n",
        "else: \n",
        "  if opc==\"b\":\n",
        "    a=float(input(\"Escribe lado Altura\"))\n",
        "    b=float(input(\"Escribe lado Base\"))\n",
        "    print(\"El area es:\", (b*a)/2)\n",
        "  else:\n",
        "    if opc==\"c\":\n",
        "      onzas=float(input(\"Escribe las onzas a converstir a ml\"))\n",
        "      print(onzas,\" es igual a \",onzas*29.5735,\" ml\")\n",
        "    else:\n",
        "      print(\"Esa opción no existe\")"
      ],
      "execution_count": null,
      "outputs": [
        {
          "output_type": "stream",
          "text": [
            "Programa que realiza 3 diferentes programas:\n",
            "\n",
            "A el programa de converion de cm a mtros.\n",
            " B realizara un programa para el calculo del área de un triángulo \n",
            " C convertira onzas a mililitros.\n",
            "Que programa eliges, A, B,C ?z\n",
            "Esa opción no existe\n"
          ],
          "name": "stdout"
        }
      ]
    },
    {
      "cell_type": "code",
      "metadata": {
        "id": "jthvhyBGbexE"
      },
      "source": [
        "print(\"Programa que realiza 3 diferentes programas:\\n\")\n",
        "print(\"A el programa de converion de cm a mtros.\\n B realizara un programa para el calculo del área de un triángulo \\n C convertira onzas a mililitros.\")\n",
        "opc=str(input(\"Que programa eliges, A, B,C ?\"))\n",
        "\n",
        "if opc==\"a\":\n",
        "  cm=float(input(\"Escribe los cms\"))\n",
        "  print(\"La conversión\",cm/100)\n",
        "else: \n",
        "  if opc==\"b\":\n",
        "    a=float(input(\"Escribe lado Altura\"))\n",
        "    b=float(input(\"Escribe lado Base\"))\n",
        "    print(\"El area es:\", (b*a)/2)\n",
        "  else:\n",
        "    if opc==\"c\":\n",
        "      onzas=float(input(\"Escribe las onzas a converstir a ml\"))\n",
        "      print(onzas,\" es igual a \",onzas*29.5735,\" ml\")\n",
        "    else:\n",
        "      print(\"Esa opción no existe\")"
      ],
      "execution_count": null,
      "outputs": []
    },
    {
      "cell_type": "code",
      "metadata": {
        "id": "w7Amolo2In6H"
      },
      "source": [],
      "execution_count": null,
      "outputs": []
    },
    {
      "cell_type": "code",
      "metadata": {
        "colab": {
          "base_uri": "https://localhost:8080/"
        },
        "id": "PRCb-RoJIotg",
        "outputId": "e338986a-6030-49cd-da01-0924fb1323bd"
      },
      "source": [
        "#Version 2 con elif\n",
        "print(\"Programa que realiza 3 diferentes programas:\\n\")\n",
        "print(\"A el programa de converion de cm a mtros.\\n B realizara un programa para el calculo del área de un triángulo \\n C convertira onzas a mililitros.\")\n",
        "opc=str(input(\"Que programa eliges, A, B,C ?\"))\n",
        "\n",
        "if opc.upper()==\"A\":\n",
        "  cm=float(input(\"Escribe los cms\"))\n",
        "  print(\"La conversión\",cm/100)\n",
        "elif opc.upper()==\"B\":\n",
        "  a=float(input(\"Escribe lado Altura\"))\n",
        "  b=float(input(\"Escribe lado Base\"))\n",
        "  print(\"El area es:\", (b*a)/2)\n",
        "elif opc.upper()==\"C\":\n",
        "  onzas=float(input(\"Escribe las onzas a converstir a ml\"))\n",
        "  print(onzas,\" es igual a \",onzas*29.5735,\" ml\")\n",
        "else:\n",
        "  print(\"Esa opción no existe\")"
      ],
      "execution_count": null,
      "outputs": [
        {
          "output_type": "stream",
          "text": [
            "Programa que realiza 3 diferentes programas:\n",
            "\n",
            "A el programa de converion de cm a mtros.\n",
            " B realizara un programa para el calculo del área de un triángulo \n",
            " C convertira onzas a mililitros.\n",
            "Que programa eliges, A, B,C ?a\n",
            "Escribe los cms152\n",
            "La conversión 1.52\n"
          ],
          "name": "stdout"
        }
      ]
    },
    {
      "cell_type": "markdown",
      "metadata": {
        "id": "ezz3CDu6bFg0"
      },
      "source": [
        "otro ejemplo"
      ]
    },
    {
      "cell_type": "code",
      "metadata": {
        "id": "4hncdqcGbHeJ"
      },
      "source": [
        "cal=float(input(\"Escribe tu calificación\"))\n",
        "\n",
        "if cal>=60 and cal <=79:\n",
        "  print(\"Buen trabajo, pero debes esforzarte más\")\n",
        "else:\n",
        "  if cal >= 80 and cal <=94:\n",
        "    print(\"!Felicidades aprobaste!\")\n",
        "  else:\n",
        "    if cal>= 95 and cal <=100:\n",
        "      print(\"Felicidades, excelente nota en tu examen\")\n",
        "    else:\n",
        "      print(\"Reprobaste\")\n",
        "    "
      ],
      "execution_count": null,
      "outputs": []
    },
    {
      "cell_type": "code",
      "metadata": {
        "id": "cauVq2mhbKRQ"
      },
      "source": [
        "cal=float(input(\"Escribe tu calificación\"))\n",
        "\n",
        "if cal>=60 and cal <=79:\n",
        "  print(\"Buen trabajo, pero debes esforzarte más\")\n",
        "elif  cal >= 80 and cal <=94:\n",
        "  print(\"!Felicidades aprobaste!\")\n",
        "elif cal>= 95 and cal <=100:\n",
        "  print(\"Felicidades, excelente nota en tu examen\")\n",
        "else:\n",
        "  print(\"Reprobaste\")\n",
        "    "
      ],
      "execution_count": null,
      "outputs": []
    }
  ]
}