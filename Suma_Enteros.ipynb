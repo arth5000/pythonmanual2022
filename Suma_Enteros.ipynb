{
  "nbformat": 4,
  "nbformat_minor": 0,
  "metadata": {
    "colab": {
      "provenance": [],
      "authorship_tag": "ABX9TyPdvraIXamX7rtX+5JSKiAP",
      "include_colab_link": true
    },
    "kernelspec": {
      "name": "python3",
      "display_name": "Python 3"
    }
  },
  "cells": [
    {
      "cell_type": "markdown",
      "metadata": {
        "id": "view-in-github",
        "colab_type": "text"
      },
      "source": [
        "<a href=\"https://colab.research.google.com/github/arth5000/pythonmanual2022/blob/main/Suma_Enteros.ipynb\" target=\"_parent\"><img src=\"https://colab.research.google.com/assets/colab-badge.svg\" alt=\"Open In Colab\"/></a>"
      ]
    },
    {
      "cell_type": "markdown",
      "metadata": {
        "id": "wLavBQp38_0Y"
      },
      "source": [
        "1)Definición:\n",
        "Diseñe y codifique en Python 3.x un algoritmo que calcule el área de un triangulo. Al final se debe imprimir el area calculada y los valores de entrada.\n"
      ]
    },
    {
      "cell_type": "markdown",
      "metadata": {
        "id": "C5biNgEr89jR"
      },
      "source": [
        "\n",
        "```\n",
        "2) Analisis del problemas:\n",
        "**Entrada**: base y altura\n",
        "**Proceso**: * /\n",
        "**Salida**: area calcula y lo entrada\n",
        "```\n",
        "\n",
        "\n"
      ]
    },
    {
      "cell_type": "markdown",
      "metadata": {
        "id": "Je4uwFoP8oI3"
      },
      "source": []
    },
    {
      "cell_type": "code",
      "metadata": {
        "id": "D4RGhtIU_XGN"
      },
      "source": [],
      "execution_count": null,
      "outputs": []
    },
    {
      "cell_type": "markdown",
      "metadata": {
        "id": "EzJvJIkg-dPH"
      },
      "source": [
        "Diseño en pseudo-codigo\n",
        "\n",
        "```\n",
        "Inicio\n",
        "  Leer valor 1\n",
        "  Leer Valor 2\n",
        "  S=valor1+valor2\n",
        "  imprimir S\n",
        "FIN\n",
        "```\n",
        "\n"
      ]
    },
    {
      "cell_type": "markdown",
      "metadata": {
        "id": "i4_7_REY-rqW"
      },
      "source": []
    },
    {
      "cell_type": "code",
      "metadata": {
        "colab": {
          "base_uri": "https://localhost:8080/"
        },
        "id": "KprROTXQ_Xat",
        "outputId": "4bdbfd35-dc76-434f-c8cd-6f5387844b7f"
      },
      "source": [
        "valor1=int( input(\"Escribe tu primer numero entero\"))\n",
        "valor2=int( input(\"Escribe tu segundo numero entero\"))\n",
        "suma=valor1+valor2\n",
        "print(\"La suma es:\",suma)"
      ],
      "execution_count": null,
      "outputs": [
        {
          "output_type": "stream",
          "text": [
            "Escribe tu primer numero entero4\n",
            "Escribe tu segundo numero entero8\n",
            "La suma es: 12\n"
          ],
          "name": "stdout"
        }
      ]
    }
  ]
}